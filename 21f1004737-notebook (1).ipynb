{
 "cells": [
  {
   "cell_type": "code",
   "execution_count": 1,
   "id": "59fd4095",
   "metadata": {
    "_cell_guid": "b1076dfc-b9ad-4769-8c92-a6c4dae69d19",
    "_uuid": "8f2839f25d086af736a60e9eeb907d3b93b6e0e5",
    "execution": {
     "iopub.execute_input": "2023-03-04T11:06:12.148413Z",
     "iopub.status.busy": "2023-03-04T11:06:12.147801Z",
     "iopub.status.idle": "2023-03-04T11:06:12.164817Z",
     "shell.execute_reply": "2023-03-04T11:06:12.163491Z"
    },
    "papermill": {
     "duration": 0.035009,
     "end_time": "2023-03-04T11:06:12.167361",
     "exception": false,
     "start_time": "2023-03-04T11:06:12.132352",
     "status": "completed"
    },
    "tags": []
   },
   "outputs": [
    {
     "name": "stdout",
     "output_type": "stream",
     "text": [
      "/kaggle/input/e-commerce-shoppers-behaviour-understanding/test_data_v2.csv\n",
      "/kaggle/input/e-commerce-shoppers-behaviour-understanding/train_data_v2.csv\n",
      "/kaggle/input/e-commerce-shoppers-behaviour-understanding/sample.csv\n"
     ]
    }
   ],
   "source": [
    "# This Python 3 environment comes with many helpful analytics libraries installed\n",
    "# It is defined by the kaggle/python Docker image: https://github.com/kaggle/docker-python\n",
    "# For example, here's several helpful packages to load\n",
    "\n",
    "import numpy as np # linear algebra\n",
    "import pandas as pd # data processing, CSV file I/O (e.g. pd.read_csv)\n",
    "\n",
    "# Input data files are available in the read-only \"../input/\" directory\n",
    "# For example, running this (by clicking run or pressing Shift+Enter) will list all files under the input directory\n",
    "\n",
    "import os\n",
    "for dirname, _, filenames in os.walk('/kaggle/input'):\n",
    "    for filename in filenames:\n",
    "        print(os.path.join(dirname, filename))\n",
    "\n",
    "# You can write up to 20GB to the current directory (/kaggle/working/) that gets preserved as output when you create a version using \"Save & Run All\" \n",
    "# You can also write temporary files to /kaggle/temp/, but they won't be saved outside of the current session"
   ]
  },
  {
   "cell_type": "markdown",
   "id": "fe7f88a5",
   "metadata": {
    "papermill": {
     "duration": 0.011669,
     "end_time": "2023-03-04T11:06:12.191480",
     "exception": false,
     "start_time": "2023-03-04T11:06:12.179811",
     "status": "completed"
    },
    "tags": []
   },
   "source": [
    "##Import Module "
   ]
  },
  {
   "cell_type": "code",
   "execution_count": 2,
   "id": "9ed952e3",
   "metadata": {
    "execution": {
     "iopub.execute_input": "2023-03-04T11:06:12.218934Z",
     "iopub.status.busy": "2023-03-04T11:06:12.218516Z",
     "iopub.status.idle": "2023-03-04T11:06:13.784634Z",
     "shell.execute_reply": "2023-03-04T11:06:13.783450Z"
    },
    "papermill": {
     "duration": 1.582298,
     "end_time": "2023-03-04T11:06:13.787440",
     "exception": false,
     "start_time": "2023-03-04T11:06:12.205142",
     "status": "completed"
    },
    "tags": []
   },
   "outputs": [],
   "source": [
    "# importing dependecies\n",
    "import numpy as np\n",
    "import pandas as pd \n",
    "import seaborn as sns\n",
    "import matplotlib.pyplot as plt\n",
    "from sklearn.impute import SimpleImputer\n",
    "from sklearn.preprocessing import LabelEncoder\n",
    "from sklearn.model_selection import train_test_split ,cross_val_score\n",
    "from sklearn.linear_model import LogisticRegression \n",
    "from sklearn.metrics import accuracy_score\n",
    "\n",
    "\n",
    "\n",
    "\n",
    "\n"
   ]
  },
  {
   "cell_type": "markdown",
   "id": "310c6a5e",
   "metadata": {
    "papermill": {
     "duration": 0.012065,
     "end_time": "2023-03-04T11:06:13.812370",
     "exception": false,
     "start_time": "2023-03-04T11:06:13.800305",
     "status": "completed"
    },
    "tags": []
   },
   "source": [
    "**##**Loading Dataset"
   ]
  },
  {
   "cell_type": "code",
   "execution_count": 3,
   "id": "cebdad29",
   "metadata": {
    "execution": {
     "iopub.execute_input": "2023-03-04T11:06:13.839221Z",
     "iopub.status.busy": "2023-03-04T11:06:13.838555Z",
     "iopub.status.idle": "2023-03-04T11:06:13.974640Z",
     "shell.execute_reply": "2023-03-04T11:06:13.973570Z"
    },
    "papermill": {
     "duration": 0.153069,
     "end_time": "2023-03-04T11:06:13.977542",
     "exception": false,
     "start_time": "2023-03-04T11:06:13.824473",
     "status": "completed"
    },
    "tags": []
   },
   "outputs": [],
   "source": [
    "train = pd.read_csv('/kaggle/input/e-commerce-shoppers-behaviour-understanding/train_data_v2.csv')\n",
    "test = pd.read_csv('/kaggle/input/e-commerce-shoppers-behaviour-understanding/test_data_v2.csv')"
   ]
  },
  {
   "cell_type": "code",
   "execution_count": 4,
   "id": "8c26f16d",
   "metadata": {
    "execution": {
     "iopub.execute_input": "2023-03-04T11:06:14.004169Z",
     "iopub.status.busy": "2023-03-04T11:06:14.003739Z",
     "iopub.status.idle": "2023-03-04T11:06:14.050726Z",
     "shell.execute_reply": "2023-03-04T11:06:14.049357Z"
    },
    "papermill": {
     "duration": 0.063522,
     "end_time": "2023-03-04T11:06:14.053180",
     "exception": false,
     "start_time": "2023-03-04T11:06:13.989658",
     "status": "completed"
    },
    "tags": []
   },
   "outputs": [
    {
     "data": {
      "text/html": [
       "<div>\n",
       "<style scoped>\n",
       "    .dataframe tbody tr th:only-of-type {\n",
       "        vertical-align: middle;\n",
       "    }\n",
       "\n",
       "    .dataframe tbody tr th {\n",
       "        vertical-align: top;\n",
       "    }\n",
       "\n",
       "    .dataframe thead th {\n",
       "        text-align: right;\n",
       "    }\n",
       "</style>\n",
       "<table border=\"1\" class=\"dataframe\">\n",
       "  <thead>\n",
       "    <tr style=\"text-align: right;\">\n",
       "      <th></th>\n",
       "      <th>HomePage</th>\n",
       "      <th>HomePage_Duration</th>\n",
       "      <th>LandingPage</th>\n",
       "      <th>LandingPage_Duration</th>\n",
       "      <th>ProductDescriptionPage</th>\n",
       "      <th>ProductDescriptionPage_Duration</th>\n",
       "      <th>GoogleMetric:Bounce Rates</th>\n",
       "      <th>GoogleMetric:Exit Rates</th>\n",
       "      <th>GoogleMetric:Page Values</th>\n",
       "      <th>SeasonalPurchase</th>\n",
       "      <th>...</th>\n",
       "      <th>SearchEngine</th>\n",
       "      <th>Zone</th>\n",
       "      <th>Type of Traffic</th>\n",
       "      <th>CustomerType</th>\n",
       "      <th>Gender</th>\n",
       "      <th>Cookies Setting</th>\n",
       "      <th>Education</th>\n",
       "      <th>Marital Status</th>\n",
       "      <th>WeekendPurchase</th>\n",
       "      <th>Made_Purchase</th>\n",
       "    </tr>\n",
       "  </thead>\n",
       "  <tbody>\n",
       "    <tr>\n",
       "      <th>0</th>\n",
       "      <td>0.0</td>\n",
       "      <td>0.0</td>\n",
       "      <td>0.0</td>\n",
       "      <td>0.0</td>\n",
       "      <td>1.0</td>\n",
       "      <td>0.000000</td>\n",
       "      <td>0.20</td>\n",
       "      <td>0.20</td>\n",
       "      <td>0.0</td>\n",
       "      <td>0.0</td>\n",
       "      <td>...</td>\n",
       "      <td>1.0</td>\n",
       "      <td>9.0</td>\n",
       "      <td>3.0</td>\n",
       "      <td>Returning_Visitor</td>\n",
       "      <td>Not Specified</td>\n",
       "      <td>Deny</td>\n",
       "      <td>Not Specified</td>\n",
       "      <td>Other</td>\n",
       "      <td>0.0</td>\n",
       "      <td>False</td>\n",
       "    </tr>\n",
       "    <tr>\n",
       "      <th>1</th>\n",
       "      <td>0.0</td>\n",
       "      <td>0.0</td>\n",
       "      <td>0.0</td>\n",
       "      <td>0.0</td>\n",
       "      <td>2.0</td>\n",
       "      <td>2.666667</td>\n",
       "      <td>0.05</td>\n",
       "      <td>0.14</td>\n",
       "      <td>0.0</td>\n",
       "      <td>0.0</td>\n",
       "      <td>...</td>\n",
       "      <td>2.0</td>\n",
       "      <td>2.0</td>\n",
       "      <td>4.0</td>\n",
       "      <td>Returning_Visitor</td>\n",
       "      <td>Female</td>\n",
       "      <td>Deny</td>\n",
       "      <td>Others</td>\n",
       "      <td>Married</td>\n",
       "      <td>0.0</td>\n",
       "      <td>False</td>\n",
       "    </tr>\n",
       "    <tr>\n",
       "      <th>2</th>\n",
       "      <td>0.0</td>\n",
       "      <td>0.0</td>\n",
       "      <td>0.0</td>\n",
       "      <td>0.0</td>\n",
       "      <td>10.0</td>\n",
       "      <td>627.500000</td>\n",
       "      <td>0.02</td>\n",
       "      <td>0.05</td>\n",
       "      <td>0.0</td>\n",
       "      <td>0.0</td>\n",
       "      <td>...</td>\n",
       "      <td>3.0</td>\n",
       "      <td>1.0</td>\n",
       "      <td>4.0</td>\n",
       "      <td>Returning_Visitor</td>\n",
       "      <td>Female</td>\n",
       "      <td>ALL</td>\n",
       "      <td>Others</td>\n",
       "      <td>Married</td>\n",
       "      <td>1.0</td>\n",
       "      <td>False</td>\n",
       "    </tr>\n",
       "    <tr>\n",
       "      <th>3</th>\n",
       "      <td>0.0</td>\n",
       "      <td>0.0</td>\n",
       "      <td>0.0</td>\n",
       "      <td>0.0</td>\n",
       "      <td>1.0</td>\n",
       "      <td>0.000000</td>\n",
       "      <td>0.20</td>\n",
       "      <td>0.20</td>\n",
       "      <td>0.0</td>\n",
       "      <td>0.4</td>\n",
       "      <td>...</td>\n",
       "      <td>4.0</td>\n",
       "      <td>3.0</td>\n",
       "      <td>3.0</td>\n",
       "      <td>Returning_Visitor</td>\n",
       "      <td>Male</td>\n",
       "      <td>ALL</td>\n",
       "      <td>Diploma</td>\n",
       "      <td>Single</td>\n",
       "      <td>0.0</td>\n",
       "      <td>False</td>\n",
       "    </tr>\n",
       "    <tr>\n",
       "      <th>4</th>\n",
       "      <td>1.0</td>\n",
       "      <td>0.0</td>\n",
       "      <td>0.0</td>\n",
       "      <td>0.0</td>\n",
       "      <td>0.0</td>\n",
       "      <td>0.000000</td>\n",
       "      <td>0.20</td>\n",
       "      <td>0.20</td>\n",
       "      <td>0.0</td>\n",
       "      <td>0.0</td>\n",
       "      <td>...</td>\n",
       "      <td>2.0</td>\n",
       "      <td>1.0</td>\n",
       "      <td>5.0</td>\n",
       "      <td>Returning_Visitor</td>\n",
       "      <td>Male</td>\n",
       "      <td>Deny</td>\n",
       "      <td>Diploma</td>\n",
       "      <td>Other</td>\n",
       "      <td>1.0</td>\n",
       "      <td>False</td>\n",
       "    </tr>\n",
       "  </tbody>\n",
       "</table>\n",
       "<p>5 rows × 22 columns</p>\n",
       "</div>"
      ],
      "text/plain": [
       "   HomePage  HomePage_Duration  LandingPage  LandingPage_Duration  \\\n",
       "0       0.0                0.0          0.0                   0.0   \n",
       "1       0.0                0.0          0.0                   0.0   \n",
       "2       0.0                0.0          0.0                   0.0   \n",
       "3       0.0                0.0          0.0                   0.0   \n",
       "4       1.0                0.0          0.0                   0.0   \n",
       "\n",
       "   ProductDescriptionPage  ProductDescriptionPage_Duration  \\\n",
       "0                     1.0                         0.000000   \n",
       "1                     2.0                         2.666667   \n",
       "2                    10.0                       627.500000   \n",
       "3                     1.0                         0.000000   \n",
       "4                     0.0                         0.000000   \n",
       "\n",
       "   GoogleMetric:Bounce Rates  GoogleMetric:Exit Rates  \\\n",
       "0                       0.20                     0.20   \n",
       "1                       0.05                     0.14   \n",
       "2                       0.02                     0.05   \n",
       "3                       0.20                     0.20   \n",
       "4                       0.20                     0.20   \n",
       "\n",
       "   GoogleMetric:Page Values  SeasonalPurchase  ... SearchEngine  Zone  \\\n",
       "0                       0.0               0.0  ...          1.0   9.0   \n",
       "1                       0.0               0.0  ...          2.0   2.0   \n",
       "2                       0.0               0.0  ...          3.0   1.0   \n",
       "3                       0.0               0.4  ...          4.0   3.0   \n",
       "4                       0.0               0.0  ...          2.0   1.0   \n",
       "\n",
       "   Type of Traffic       CustomerType         Gender Cookies Setting  \\\n",
       "0              3.0  Returning_Visitor  Not Specified            Deny   \n",
       "1              4.0  Returning_Visitor         Female            Deny   \n",
       "2              4.0  Returning_Visitor         Female             ALL   \n",
       "3              3.0  Returning_Visitor           Male             ALL   \n",
       "4              5.0  Returning_Visitor           Male            Deny   \n",
       "\n",
       "       Education Marital Status WeekendPurchase Made_Purchase  \n",
       "0  Not Specified          Other             0.0         False  \n",
       "1         Others        Married             0.0         False  \n",
       "2         Others        Married             1.0         False  \n",
       "3        Diploma         Single             0.0         False  \n",
       "4        Diploma          Other             1.0         False  \n",
       "\n",
       "[5 rows x 22 columns]"
      ]
     },
     "execution_count": 4,
     "metadata": {},
     "output_type": "execute_result"
    }
   ],
   "source": [
    "train.head()"
   ]
  },
  {
   "cell_type": "code",
   "execution_count": 5,
   "id": "d1352414",
   "metadata": {
    "execution": {
     "iopub.execute_input": "2023-03-04T11:06:14.080600Z",
     "iopub.status.busy": "2023-03-04T11:06:14.080080Z",
     "iopub.status.idle": "2023-03-04T11:06:14.110986Z",
     "shell.execute_reply": "2023-03-04T11:06:14.109811Z"
    },
    "papermill": {
     "duration": 0.047786,
     "end_time": "2023-03-04T11:06:14.113559",
     "exception": false,
     "start_time": "2023-03-04T11:06:14.065773",
     "status": "completed"
    },
    "tags": []
   },
   "outputs": [
    {
     "data": {
      "text/html": [
       "<div>\n",
       "<style scoped>\n",
       "    .dataframe tbody tr th:only-of-type {\n",
       "        vertical-align: middle;\n",
       "    }\n",
       "\n",
       "    .dataframe tbody tr th {\n",
       "        vertical-align: top;\n",
       "    }\n",
       "\n",
       "    .dataframe thead th {\n",
       "        text-align: right;\n",
       "    }\n",
       "</style>\n",
       "<table border=\"1\" class=\"dataframe\">\n",
       "  <thead>\n",
       "    <tr style=\"text-align: right;\">\n",
       "      <th></th>\n",
       "      <th>HomePage</th>\n",
       "      <th>HomePage_Duration</th>\n",
       "      <th>LandingPage</th>\n",
       "      <th>LandingPage_Duration</th>\n",
       "      <th>ProductDescriptionPage</th>\n",
       "      <th>ProductDescriptionPage_Duration</th>\n",
       "      <th>GoogleMetric:Bounce Rates</th>\n",
       "      <th>GoogleMetric:Exit Rates</th>\n",
       "      <th>GoogleMetric:Page Values</th>\n",
       "      <th>SeasonalPurchase</th>\n",
       "      <th>...</th>\n",
       "      <th>OS</th>\n",
       "      <th>SearchEngine</th>\n",
       "      <th>Zone</th>\n",
       "      <th>Type of Traffic</th>\n",
       "      <th>CustomerType</th>\n",
       "      <th>Gender</th>\n",
       "      <th>Cookies Setting</th>\n",
       "      <th>Education</th>\n",
       "      <th>Marital Status</th>\n",
       "      <th>WeekendPurchase</th>\n",
       "    </tr>\n",
       "  </thead>\n",
       "  <tbody>\n",
       "    <tr>\n",
       "      <th>0</th>\n",
       "      <td>0.0</td>\n",
       "      <td>0.0</td>\n",
       "      <td>0.0</td>\n",
       "      <td>0.0</td>\n",
       "      <td>1.0</td>\n",
       "      <td>0.000000</td>\n",
       "      <td>0.200000</td>\n",
       "      <td>0.200000</td>\n",
       "      <td>0.0</td>\n",
       "      <td>0.0</td>\n",
       "      <td>...</td>\n",
       "      <td>1.0</td>\n",
       "      <td>1.0</td>\n",
       "      <td>1.0</td>\n",
       "      <td>1.0</td>\n",
       "      <td>Returning_Visitor</td>\n",
       "      <td>Not Specified</td>\n",
       "      <td>Deny</td>\n",
       "      <td>Not Specified</td>\n",
       "      <td>Single</td>\n",
       "      <td>0.0</td>\n",
       "    </tr>\n",
       "    <tr>\n",
       "      <th>1</th>\n",
       "      <td>0.0</td>\n",
       "      <td>0.0</td>\n",
       "      <td>0.0</td>\n",
       "      <td>0.0</td>\n",
       "      <td>2.0</td>\n",
       "      <td>64.000000</td>\n",
       "      <td>0.000000</td>\n",
       "      <td>0.100000</td>\n",
       "      <td>0.0</td>\n",
       "      <td>0.0</td>\n",
       "      <td>...</td>\n",
       "      <td>2.0</td>\n",
       "      <td>2.0</td>\n",
       "      <td>1.0</td>\n",
       "      <td>2.0</td>\n",
       "      <td>Returning_Visitor</td>\n",
       "      <td>Not Specified</td>\n",
       "      <td>ALL</td>\n",
       "      <td>Graduate</td>\n",
       "      <td>Married</td>\n",
       "      <td>0.0</td>\n",
       "    </tr>\n",
       "    <tr>\n",
       "      <th>2</th>\n",
       "      <td>0.0</td>\n",
       "      <td>0.0</td>\n",
       "      <td>0.0</td>\n",
       "      <td>0.0</td>\n",
       "      <td>19.0</td>\n",
       "      <td>154.216667</td>\n",
       "      <td>0.015789</td>\n",
       "      <td>0.024561</td>\n",
       "      <td>0.0</td>\n",
       "      <td>0.0</td>\n",
       "      <td>...</td>\n",
       "      <td>2.0</td>\n",
       "      <td>2.0</td>\n",
       "      <td>1.0</td>\n",
       "      <td>3.0</td>\n",
       "      <td>Returning_Visitor</td>\n",
       "      <td>Female</td>\n",
       "      <td>Required</td>\n",
       "      <td>Diploma</td>\n",
       "      <td>Other</td>\n",
       "      <td>0.0</td>\n",
       "    </tr>\n",
       "    <tr>\n",
       "      <th>3</th>\n",
       "      <td>0.0</td>\n",
       "      <td>0.0</td>\n",
       "      <td>0.0</td>\n",
       "      <td>0.0</td>\n",
       "      <td>2.0</td>\n",
       "      <td>37.000000</td>\n",
       "      <td>0.000000</td>\n",
       "      <td>0.100000</td>\n",
       "      <td>0.0</td>\n",
       "      <td>0.8</td>\n",
       "      <td>...</td>\n",
       "      <td>2.0</td>\n",
       "      <td>2.0</td>\n",
       "      <td>2.0</td>\n",
       "      <td>3.0</td>\n",
       "      <td>Returning_Visitor</td>\n",
       "      <td>Not Specified</td>\n",
       "      <td>Required</td>\n",
       "      <td>Graduate</td>\n",
       "      <td>Other</td>\n",
       "      <td>0.0</td>\n",
       "    </tr>\n",
       "    <tr>\n",
       "      <th>4</th>\n",
       "      <td>0.0</td>\n",
       "      <td>0.0</td>\n",
       "      <td>0.0</td>\n",
       "      <td>0.0</td>\n",
       "      <td>16.0</td>\n",
       "      <td>407.750000</td>\n",
       "      <td>0.018750</td>\n",
       "      <td>0.025833</td>\n",
       "      <td>0.0</td>\n",
       "      <td>0.4</td>\n",
       "      <td>...</td>\n",
       "      <td>1.0</td>\n",
       "      <td>1.0</td>\n",
       "      <td>4.0</td>\n",
       "      <td>3.0</td>\n",
       "      <td>Returning_Visitor</td>\n",
       "      <td>Female</td>\n",
       "      <td>Deny</td>\n",
       "      <td>Others</td>\n",
       "      <td>Other</td>\n",
       "      <td>0.0</td>\n",
       "    </tr>\n",
       "  </tbody>\n",
       "</table>\n",
       "<p>5 rows × 21 columns</p>\n",
       "</div>"
      ],
      "text/plain": [
       "   HomePage  HomePage_Duration  LandingPage  LandingPage_Duration  \\\n",
       "0       0.0                0.0          0.0                   0.0   \n",
       "1       0.0                0.0          0.0                   0.0   \n",
       "2       0.0                0.0          0.0                   0.0   \n",
       "3       0.0                0.0          0.0                   0.0   \n",
       "4       0.0                0.0          0.0                   0.0   \n",
       "\n",
       "   ProductDescriptionPage  ProductDescriptionPage_Duration  \\\n",
       "0                     1.0                         0.000000   \n",
       "1                     2.0                        64.000000   \n",
       "2                    19.0                       154.216667   \n",
       "3                     2.0                        37.000000   \n",
       "4                    16.0                       407.750000   \n",
       "\n",
       "   GoogleMetric:Bounce Rates  GoogleMetric:Exit Rates  \\\n",
       "0                   0.200000                 0.200000   \n",
       "1                   0.000000                 0.100000   \n",
       "2                   0.015789                 0.024561   \n",
       "3                   0.000000                 0.100000   \n",
       "4                   0.018750                 0.025833   \n",
       "\n",
       "   GoogleMetric:Page Values  SeasonalPurchase  ...   OS  SearchEngine  Zone  \\\n",
       "0                       0.0               0.0  ...  1.0           1.0   1.0   \n",
       "1                       0.0               0.0  ...  2.0           2.0   1.0   \n",
       "2                       0.0               0.0  ...  2.0           2.0   1.0   \n",
       "3                       0.0               0.8  ...  2.0           2.0   2.0   \n",
       "4                       0.0               0.4  ...  1.0           1.0   4.0   \n",
       "\n",
       "   Type of Traffic       CustomerType         Gender Cookies Setting  \\\n",
       "0              1.0  Returning_Visitor  Not Specified            Deny   \n",
       "1              2.0  Returning_Visitor  Not Specified             ALL   \n",
       "2              3.0  Returning_Visitor         Female        Required   \n",
       "3              3.0  Returning_Visitor  Not Specified        Required   \n",
       "4              3.0  Returning_Visitor         Female            Deny   \n",
       "\n",
       "       Education Marital Status WeekendPurchase  \n",
       "0  Not Specified         Single             0.0  \n",
       "1       Graduate        Married             0.0  \n",
       "2        Diploma          Other             0.0  \n",
       "3       Graduate          Other             0.0  \n",
       "4         Others          Other             0.0  \n",
       "\n",
       "[5 rows x 21 columns]"
      ]
     },
     "execution_count": 5,
     "metadata": {},
     "output_type": "execute_result"
    }
   ],
   "source": [
    "test.head()"
   ]
  },
  {
   "cell_type": "code",
   "execution_count": null,
   "id": "2689f0b7",
   "metadata": {
    "papermill": {
     "duration": 0.012265,
     "end_time": "2023-03-04T11:06:14.138532",
     "exception": false,
     "start_time": "2023-03-04T11:06:14.126267",
     "status": "completed"
    },
    "tags": []
   },
   "outputs": [],
   "source": []
  },
  {
   "cell_type": "code",
   "execution_count": 6,
   "id": "d6404c81",
   "metadata": {
    "execution": {
     "iopub.execute_input": "2023-03-04T11:06:14.166279Z",
     "iopub.status.busy": "2023-03-04T11:06:14.165432Z",
     "iopub.status.idle": "2023-03-04T11:06:14.241826Z",
     "shell.execute_reply": "2023-03-04T11:06:14.240688Z"
    },
    "papermill": {
     "duration": 0.093197,
     "end_time": "2023-03-04T11:06:14.244370",
     "exception": false,
     "start_time": "2023-03-04T11:06:14.151173",
     "status": "completed"
    },
    "tags": []
   },
   "outputs": [
    {
     "data": {
      "text/html": [
       "<div>\n",
       "<style scoped>\n",
       "    .dataframe tbody tr th:only-of-type {\n",
       "        vertical-align: middle;\n",
       "    }\n",
       "\n",
       "    .dataframe tbody tr th {\n",
       "        vertical-align: top;\n",
       "    }\n",
       "\n",
       "    .dataframe thead th {\n",
       "        text-align: right;\n",
       "    }\n",
       "</style>\n",
       "<table border=\"1\" class=\"dataframe\">\n",
       "  <thead>\n",
       "    <tr style=\"text-align: right;\">\n",
       "      <th></th>\n",
       "      <th>HomePage</th>\n",
       "      <th>HomePage_Duration</th>\n",
       "      <th>LandingPage</th>\n",
       "      <th>LandingPage_Duration</th>\n",
       "      <th>ProductDescriptionPage</th>\n",
       "      <th>ProductDescriptionPage_Duration</th>\n",
       "      <th>GoogleMetric:Bounce Rates</th>\n",
       "      <th>GoogleMetric:Exit Rates</th>\n",
       "      <th>GoogleMetric:Page Values</th>\n",
       "      <th>SeasonalPurchase</th>\n",
       "      <th>OS</th>\n",
       "      <th>SearchEngine</th>\n",
       "      <th>Zone</th>\n",
       "      <th>Type of Traffic</th>\n",
       "      <th>WeekendPurchase</th>\n",
       "    </tr>\n",
       "  </thead>\n",
       "  <tbody>\n",
       "    <tr>\n",
       "      <th>count</th>\n",
       "      <td>14578.000000</td>\n",
       "      <td>14581.000000</td>\n",
       "      <td>14578.000000</td>\n",
       "      <td>14596.000000</td>\n",
       "      <td>14608.000000</td>\n",
       "      <td>14564.000000</td>\n",
       "      <td>14580.000000</td>\n",
       "      <td>14602.000000</td>\n",
       "      <td>14599.000000</td>\n",
       "      <td>14581.000000</td>\n",
       "      <td>14597.000000</td>\n",
       "      <td>14609.000000</td>\n",
       "      <td>14614.000000</td>\n",
       "      <td>14588.000000</td>\n",
       "      <td>14610.000000</td>\n",
       "    </tr>\n",
       "    <tr>\n",
       "      <th>mean</th>\n",
       "      <td>2.250240</td>\n",
       "      <td>79.300762</td>\n",
       "      <td>0.490739</td>\n",
       "      <td>33.455943</td>\n",
       "      <td>31.559488</td>\n",
       "      <td>1184.346084</td>\n",
       "      <td>0.023366</td>\n",
       "      <td>0.044664</td>\n",
       "      <td>4.812620</td>\n",
       "      <td>0.064083</td>\n",
       "      <td>2.122422</td>\n",
       "      <td>2.356629</td>\n",
       "      <td>3.155673</td>\n",
       "      <td>4.090143</td>\n",
       "      <td>0.234155</td>\n",
       "    </tr>\n",
       "    <tr>\n",
       "      <th>std</th>\n",
       "      <td>3.288042</td>\n",
       "      <td>179.374699</td>\n",
       "      <td>1.252376</td>\n",
       "      <td>140.146256</td>\n",
       "      <td>44.897089</td>\n",
       "      <td>2009.496307</td>\n",
       "      <td>0.050011</td>\n",
       "      <td>0.049912</td>\n",
       "      <td>16.887366</td>\n",
       "      <td>0.202583</td>\n",
       "      <td>0.914404</td>\n",
       "      <td>1.721823</td>\n",
       "      <td>2.405155</td>\n",
       "      <td>4.040147</td>\n",
       "      <td>0.423484</td>\n",
       "    </tr>\n",
       "    <tr>\n",
       "      <th>min</th>\n",
       "      <td>0.000000</td>\n",
       "      <td>0.000000</td>\n",
       "      <td>0.000000</td>\n",
       "      <td>0.000000</td>\n",
       "      <td>0.000000</td>\n",
       "      <td>0.000000</td>\n",
       "      <td>0.000000</td>\n",
       "      <td>0.000000</td>\n",
       "      <td>0.000000</td>\n",
       "      <td>0.000000</td>\n",
       "      <td>1.000000</td>\n",
       "      <td>1.000000</td>\n",
       "      <td>1.000000</td>\n",
       "      <td>1.000000</td>\n",
       "      <td>0.000000</td>\n",
       "    </tr>\n",
       "    <tr>\n",
       "      <th>25%</th>\n",
       "      <td>0.000000</td>\n",
       "      <td>0.000000</td>\n",
       "      <td>0.000000</td>\n",
       "      <td>0.000000</td>\n",
       "      <td>7.000000</td>\n",
       "      <td>173.187500</td>\n",
       "      <td>0.000000</td>\n",
       "      <td>0.014502</td>\n",
       "      <td>0.000000</td>\n",
       "      <td>0.000000</td>\n",
       "      <td>2.000000</td>\n",
       "      <td>2.000000</td>\n",
       "      <td>1.000000</td>\n",
       "      <td>2.000000</td>\n",
       "      <td>0.000000</td>\n",
       "    </tr>\n",
       "    <tr>\n",
       "      <th>50%</th>\n",
       "      <td>1.000000</td>\n",
       "      <td>5.000000</td>\n",
       "      <td>0.000000</td>\n",
       "      <td>0.000000</td>\n",
       "      <td>17.500000</td>\n",
       "      <td>584.333333</td>\n",
       "      <td>0.003478</td>\n",
       "      <td>0.026406</td>\n",
       "      <td>0.000000</td>\n",
       "      <td>0.000000</td>\n",
       "      <td>2.000000</td>\n",
       "      <td>2.000000</td>\n",
       "      <td>3.000000</td>\n",
       "      <td>2.000000</td>\n",
       "      <td>0.000000</td>\n",
       "    </tr>\n",
       "    <tr>\n",
       "      <th>75%</th>\n",
       "      <td>3.000000</td>\n",
       "      <td>91.000000</td>\n",
       "      <td>0.000000</td>\n",
       "      <td>0.000000</td>\n",
       "      <td>38.000000</td>\n",
       "      <td>1434.255128</td>\n",
       "      <td>0.018182</td>\n",
       "      <td>0.050000</td>\n",
       "      <td>0.000000</td>\n",
       "      <td>0.000000</td>\n",
       "      <td>3.000000</td>\n",
       "      <td>2.000000</td>\n",
       "      <td>4.000000</td>\n",
       "      <td>4.000000</td>\n",
       "      <td>0.000000</td>\n",
       "    </tr>\n",
       "    <tr>\n",
       "      <th>max</th>\n",
       "      <td>27.000000</td>\n",
       "      <td>3398.750000</td>\n",
       "      <td>24.000000</td>\n",
       "      <td>2549.375000</td>\n",
       "      <td>705.000000</td>\n",
       "      <td>63973.522230</td>\n",
       "      <td>0.200000</td>\n",
       "      <td>0.200000</td>\n",
       "      <td>361.763742</td>\n",
       "      <td>1.000000</td>\n",
       "      <td>8.000000</td>\n",
       "      <td>13.000000</td>\n",
       "      <td>9.000000</td>\n",
       "      <td>20.000000</td>\n",
       "      <td>1.000000</td>\n",
       "    </tr>\n",
       "  </tbody>\n",
       "</table>\n",
       "</div>"
      ],
      "text/plain": [
       "           HomePage  HomePage_Duration   LandingPage  LandingPage_Duration  \\\n",
       "count  14578.000000       14581.000000  14578.000000          14596.000000   \n",
       "mean       2.250240          79.300762      0.490739             33.455943   \n",
       "std        3.288042         179.374699      1.252376            140.146256   \n",
       "min        0.000000           0.000000      0.000000              0.000000   \n",
       "25%        0.000000           0.000000      0.000000              0.000000   \n",
       "50%        1.000000           5.000000      0.000000              0.000000   \n",
       "75%        3.000000          91.000000      0.000000              0.000000   \n",
       "max       27.000000        3398.750000     24.000000           2549.375000   \n",
       "\n",
       "       ProductDescriptionPage  ProductDescriptionPage_Duration  \\\n",
       "count            14608.000000                     14564.000000   \n",
       "mean                31.559488                      1184.346084   \n",
       "std                 44.897089                      2009.496307   \n",
       "min                  0.000000                         0.000000   \n",
       "25%                  7.000000                       173.187500   \n",
       "50%                 17.500000                       584.333333   \n",
       "75%                 38.000000                      1434.255128   \n",
       "max                705.000000                     63973.522230   \n",
       "\n",
       "       GoogleMetric:Bounce Rates  GoogleMetric:Exit Rates  \\\n",
       "count               14580.000000             14602.000000   \n",
       "mean                    0.023366                 0.044664   \n",
       "std                     0.050011                 0.049912   \n",
       "min                     0.000000                 0.000000   \n",
       "25%                     0.000000                 0.014502   \n",
       "50%                     0.003478                 0.026406   \n",
       "75%                     0.018182                 0.050000   \n",
       "max                     0.200000                 0.200000   \n",
       "\n",
       "       GoogleMetric:Page Values  SeasonalPurchase            OS  SearchEngine  \\\n",
       "count              14599.000000      14581.000000  14597.000000  14609.000000   \n",
       "mean                   4.812620          0.064083      2.122422      2.356629   \n",
       "std                   16.887366          0.202583      0.914404      1.721823   \n",
       "min                    0.000000          0.000000      1.000000      1.000000   \n",
       "25%                    0.000000          0.000000      2.000000      2.000000   \n",
       "50%                    0.000000          0.000000      2.000000      2.000000   \n",
       "75%                    0.000000          0.000000      3.000000      2.000000   \n",
       "max                  361.763742          1.000000      8.000000     13.000000   \n",
       "\n",
       "               Zone  Type of Traffic  WeekendPurchase  \n",
       "count  14614.000000     14588.000000     14610.000000  \n",
       "mean       3.155673         4.090143         0.234155  \n",
       "std        2.405155         4.040147         0.423484  \n",
       "min        1.000000         1.000000         0.000000  \n",
       "25%        1.000000         2.000000         0.000000  \n",
       "50%        3.000000         2.000000         0.000000  \n",
       "75%        4.000000         4.000000         0.000000  \n",
       "max        9.000000        20.000000         1.000000  "
      ]
     },
     "execution_count": 6,
     "metadata": {},
     "output_type": "execute_result"
    }
   ],
   "source": [
    "# statistical info\n",
    "train.describe()"
   ]
  },
  {
   "cell_type": "code",
   "execution_count": 7,
   "id": "e6859e38",
   "metadata": {
    "execution": {
     "iopub.execute_input": "2023-03-04T11:06:14.272192Z",
     "iopub.status.busy": "2023-03-04T11:06:14.271745Z",
     "iopub.status.idle": "2023-03-04T11:06:14.330699Z",
     "shell.execute_reply": "2023-03-04T11:06:14.329437Z"
    },
    "papermill": {
     "duration": 0.075701,
     "end_time": "2023-03-04T11:06:14.333077",
     "exception": false,
     "start_time": "2023-03-04T11:06:14.257376",
     "status": "completed"
    },
    "tags": []
   },
   "outputs": [
    {
     "data": {
      "text/html": [
       "<div>\n",
       "<style scoped>\n",
       "    .dataframe tbody tr th:only-of-type {\n",
       "        vertical-align: middle;\n",
       "    }\n",
       "\n",
       "    .dataframe tbody tr th {\n",
       "        vertical-align: top;\n",
       "    }\n",
       "\n",
       "    .dataframe thead th {\n",
       "        text-align: right;\n",
       "    }\n",
       "</style>\n",
       "<table border=\"1\" class=\"dataframe\">\n",
       "  <thead>\n",
       "    <tr style=\"text-align: right;\">\n",
       "      <th></th>\n",
       "      <th>HomePage</th>\n",
       "      <th>HomePage_Duration</th>\n",
       "      <th>LandingPage</th>\n",
       "      <th>LandingPage_Duration</th>\n",
       "      <th>ProductDescriptionPage</th>\n",
       "      <th>ProductDescriptionPage_Duration</th>\n",
       "      <th>GoogleMetric:Bounce Rates</th>\n",
       "      <th>GoogleMetric:Exit Rates</th>\n",
       "      <th>GoogleMetric:Page Values</th>\n",
       "      <th>SeasonalPurchase</th>\n",
       "      <th>OS</th>\n",
       "      <th>SearchEngine</th>\n",
       "      <th>Zone</th>\n",
       "      <th>Type of Traffic</th>\n",
       "      <th>WeekendPurchase</th>\n",
       "    </tr>\n",
       "  </thead>\n",
       "  <tbody>\n",
       "    <tr>\n",
       "      <th>count</th>\n",
       "      <td>6548.000000</td>\n",
       "      <td>6544.000000</td>\n",
       "      <td>6543.000000</td>\n",
       "      <td>6524.000000</td>\n",
       "      <td>6541.000000</td>\n",
       "      <td>6536.000000</td>\n",
       "      <td>6533.000000</td>\n",
       "      <td>6548.000000</td>\n",
       "      <td>6554.000000</td>\n",
       "      <td>6554.000000</td>\n",
       "      <td>6537.000000</td>\n",
       "      <td>6541.000000</td>\n",
       "      <td>6552.000000</td>\n",
       "      <td>6531.000000</td>\n",
       "      <td>6541.000000</td>\n",
       "    </tr>\n",
       "    <tr>\n",
       "      <th>mean</th>\n",
       "      <td>2.283293</td>\n",
       "      <td>76.994609</td>\n",
       "      <td>0.494727</td>\n",
       "      <td>32.907760</td>\n",
       "      <td>30.742088</td>\n",
       "      <td>1151.231143</td>\n",
       "      <td>0.022392</td>\n",
       "      <td>0.043874</td>\n",
       "      <td>4.982108</td>\n",
       "      <td>0.064297</td>\n",
       "      <td>2.134006</td>\n",
       "      <td>2.357743</td>\n",
       "      <td>3.184676</td>\n",
       "      <td>4.041954</td>\n",
       "      <td>0.227947</td>\n",
       "    </tr>\n",
       "    <tr>\n",
       "      <th>std</th>\n",
       "      <td>3.345387</td>\n",
       "      <td>168.679695</td>\n",
       "      <td>1.272524</td>\n",
       "      <td>134.683314</td>\n",
       "      <td>43.539549</td>\n",
       "      <td>1917.250309</td>\n",
       "      <td>0.048374</td>\n",
       "      <td>0.048290</td>\n",
       "      <td>17.635847</td>\n",
       "      <td>0.202678</td>\n",
       "      <td>0.909340</td>\n",
       "      <td>1.721375</td>\n",
       "      <td>2.407328</td>\n",
       "      <td>4.027747</td>\n",
       "      <td>0.419540</td>\n",
       "    </tr>\n",
       "    <tr>\n",
       "      <th>min</th>\n",
       "      <td>0.000000</td>\n",
       "      <td>0.000000</td>\n",
       "      <td>0.000000</td>\n",
       "      <td>0.000000</td>\n",
       "      <td>0.000000</td>\n",
       "      <td>0.000000</td>\n",
       "      <td>0.000000</td>\n",
       "      <td>0.000000</td>\n",
       "      <td>0.000000</td>\n",
       "      <td>0.000000</td>\n",
       "      <td>1.000000</td>\n",
       "      <td>1.000000</td>\n",
       "      <td>1.000000</td>\n",
       "      <td>1.000000</td>\n",
       "      <td>0.000000</td>\n",
       "    </tr>\n",
       "    <tr>\n",
       "      <th>25%</th>\n",
       "      <td>0.000000</td>\n",
       "      <td>0.000000</td>\n",
       "      <td>0.000000</td>\n",
       "      <td>0.000000</td>\n",
       "      <td>7.000000</td>\n",
       "      <td>172.127778</td>\n",
       "      <td>0.000000</td>\n",
       "      <td>0.014543</td>\n",
       "      <td>0.000000</td>\n",
       "      <td>0.000000</td>\n",
       "      <td>2.000000</td>\n",
       "      <td>2.000000</td>\n",
       "      <td>1.000000</td>\n",
       "      <td>2.000000</td>\n",
       "      <td>0.000000</td>\n",
       "    </tr>\n",
       "    <tr>\n",
       "      <th>50%</th>\n",
       "      <td>1.000000</td>\n",
       "      <td>4.875000</td>\n",
       "      <td>0.000000</td>\n",
       "      <td>0.000000</td>\n",
       "      <td>17.000000</td>\n",
       "      <td>570.341614</td>\n",
       "      <td>0.003165</td>\n",
       "      <td>0.026458</td>\n",
       "      <td>0.000000</td>\n",
       "      <td>0.000000</td>\n",
       "      <td>2.000000</td>\n",
       "      <td>2.000000</td>\n",
       "      <td>3.000000</td>\n",
       "      <td>2.000000</td>\n",
       "      <td>0.000000</td>\n",
       "    </tr>\n",
       "    <tr>\n",
       "      <th>75%</th>\n",
       "      <td>4.000000</td>\n",
       "      <td>91.000000</td>\n",
       "      <td>0.000000</td>\n",
       "      <td>0.000000</td>\n",
       "      <td>37.000000</td>\n",
       "      <td>1425.750000</td>\n",
       "      <td>0.017778</td>\n",
       "      <td>0.050000</td>\n",
       "      <td>0.000000</td>\n",
       "      <td>0.000000</td>\n",
       "      <td>3.000000</td>\n",
       "      <td>2.000000</td>\n",
       "      <td>4.000000</td>\n",
       "      <td>4.000000</td>\n",
       "      <td>0.000000</td>\n",
       "    </tr>\n",
       "    <tr>\n",
       "      <th>max</th>\n",
       "      <td>26.000000</td>\n",
       "      <td>3398.750000</td>\n",
       "      <td>24.000000</td>\n",
       "      <td>2549.375000</td>\n",
       "      <td>705.000000</td>\n",
       "      <td>63973.522230</td>\n",
       "      <td>0.200000</td>\n",
       "      <td>0.200000</td>\n",
       "      <td>361.763742</td>\n",
       "      <td>1.000000</td>\n",
       "      <td>8.000000</td>\n",
       "      <td>13.000000</td>\n",
       "      <td>9.000000</td>\n",
       "      <td>20.000000</td>\n",
       "      <td>1.000000</td>\n",
       "    </tr>\n",
       "  </tbody>\n",
       "</table>\n",
       "</div>"
      ],
      "text/plain": [
       "          HomePage  HomePage_Duration  LandingPage  LandingPage_Duration  \\\n",
       "count  6548.000000        6544.000000  6543.000000           6524.000000   \n",
       "mean      2.283293          76.994609     0.494727             32.907760   \n",
       "std       3.345387         168.679695     1.272524            134.683314   \n",
       "min       0.000000           0.000000     0.000000              0.000000   \n",
       "25%       0.000000           0.000000     0.000000              0.000000   \n",
       "50%       1.000000           4.875000     0.000000              0.000000   \n",
       "75%       4.000000          91.000000     0.000000              0.000000   \n",
       "max      26.000000        3398.750000    24.000000           2549.375000   \n",
       "\n",
       "       ProductDescriptionPage  ProductDescriptionPage_Duration  \\\n",
       "count             6541.000000                      6536.000000   \n",
       "mean                30.742088                      1151.231143   \n",
       "std                 43.539549                      1917.250309   \n",
       "min                  0.000000                         0.000000   \n",
       "25%                  7.000000                       172.127778   \n",
       "50%                 17.000000                       570.341614   \n",
       "75%                 37.000000                      1425.750000   \n",
       "max                705.000000                     63973.522230   \n",
       "\n",
       "       GoogleMetric:Bounce Rates  GoogleMetric:Exit Rates  \\\n",
       "count                6533.000000              6548.000000   \n",
       "mean                    0.022392                 0.043874   \n",
       "std                     0.048374                 0.048290   \n",
       "min                     0.000000                 0.000000   \n",
       "25%                     0.000000                 0.014543   \n",
       "50%                     0.003165                 0.026458   \n",
       "75%                     0.017778                 0.050000   \n",
       "max                     0.200000                 0.200000   \n",
       "\n",
       "       GoogleMetric:Page Values  SeasonalPurchase           OS  SearchEngine  \\\n",
       "count               6554.000000       6554.000000  6537.000000   6541.000000   \n",
       "mean                   4.982108          0.064297     2.134006      2.357743   \n",
       "std                   17.635847          0.202678     0.909340      1.721375   \n",
       "min                    0.000000          0.000000     1.000000      1.000000   \n",
       "25%                    0.000000          0.000000     2.000000      2.000000   \n",
       "50%                    0.000000          0.000000     2.000000      2.000000   \n",
       "75%                    0.000000          0.000000     3.000000      2.000000   \n",
       "max                  361.763742          1.000000     8.000000     13.000000   \n",
       "\n",
       "              Zone  Type of Traffic  WeekendPurchase  \n",
       "count  6552.000000      6531.000000      6541.000000  \n",
       "mean      3.184676         4.041954         0.227947  \n",
       "std       2.407328         4.027747         0.419540  \n",
       "min       1.000000         1.000000         0.000000  \n",
       "25%       1.000000         2.000000         0.000000  \n",
       "50%       3.000000         2.000000         0.000000  \n",
       "75%       4.000000         4.000000         0.000000  \n",
       "max       9.000000        20.000000         1.000000  "
      ]
     },
     "execution_count": 7,
     "metadata": {},
     "output_type": "execute_result"
    }
   ],
   "source": [
    "# test\n",
    "test.describe()"
   ]
  },
  {
   "cell_type": "code",
   "execution_count": 8,
   "id": "e95624a8",
   "metadata": {
    "execution": {
     "iopub.execute_input": "2023-03-04T11:06:14.362017Z",
     "iopub.status.busy": "2023-03-04T11:06:14.361630Z",
     "iopub.status.idle": "2023-03-04T11:06:14.384682Z",
     "shell.execute_reply": "2023-03-04T11:06:14.383459Z"
    },
    "papermill": {
     "duration": 0.040806,
     "end_time": "2023-03-04T11:06:14.387380",
     "exception": false,
     "start_time": "2023-03-04T11:06:14.346574",
     "status": "completed"
    },
    "tags": []
   },
   "outputs": [
    {
     "name": "stdout",
     "output_type": "stream",
     "text": [
      "<class 'pandas.core.frame.DataFrame'>\n",
      "RangeIndex: 14731 entries, 0 to 14730\n",
      "Data columns (total 22 columns):\n",
      " #   Column                           Non-Null Count  Dtype  \n",
      "---  ------                           --------------  -----  \n",
      " 0   HomePage                         14578 non-null  float64\n",
      " 1   HomePage_Duration                14581 non-null  float64\n",
      " 2   LandingPage                      14578 non-null  float64\n",
      " 3   LandingPage_Duration             14596 non-null  float64\n",
      " 4   ProductDescriptionPage           14608 non-null  float64\n",
      " 5   ProductDescriptionPage_Duration  14564 non-null  float64\n",
      " 6   GoogleMetric:Bounce Rates        14580 non-null  float64\n",
      " 7   GoogleMetric:Exit Rates          14602 non-null  float64\n",
      " 8   GoogleMetric:Page Values         14599 non-null  float64\n",
      " 9   SeasonalPurchase                 14581 non-null  float64\n",
      " 10  Month_SeasonalPurchase           14587 non-null  object \n",
      " 11  OS                               14597 non-null  float64\n",
      " 12  SearchEngine                     14609 non-null  float64\n",
      " 13  Zone                             14614 non-null  float64\n",
      " 14  Type of Traffic                  14588 non-null  float64\n",
      " 15  CustomerType                     14587 non-null  object \n",
      " 16  Gender                           14586 non-null  object \n",
      " 17  Cookies Setting                  14587 non-null  object \n",
      " 18  Education                        14595 non-null  object \n",
      " 19  Marital Status                   14601 non-null  object \n",
      " 20  WeekendPurchase                  14610 non-null  float64\n",
      " 21  Made_Purchase                    14731 non-null  bool   \n",
      "dtypes: bool(1), float64(15), object(6)\n",
      "memory usage: 2.4+ MB\n"
     ]
    }
   ],
   "source": [
    "# datatype info\n",
    "train.info()"
   ]
  },
  {
   "cell_type": "markdown",
   "id": "c55aadd6",
   "metadata": {
    "papermill": {
     "duration": 0.01297,
     "end_time": "2023-03-04T11:06:14.414148",
     "exception": false,
     "start_time": "2023-03-04T11:06:14.401178",
     "status": "completed"
    },
    "tags": []
   },
   "source": [
    "Exploratory data Analysis "
   ]
  },
  {
   "cell_type": "code",
   "execution_count": 9,
   "id": "11a1b43c",
   "metadata": {
    "execution": {
     "iopub.execute_input": "2023-03-04T11:06:14.443324Z",
     "iopub.status.busy": "2023-03-04T11:06:14.442459Z",
     "iopub.status.idle": "2023-03-04T11:06:14.704022Z",
     "shell.execute_reply": "2023-03-04T11:06:14.702811Z"
    },
    "papermill": {
     "duration": 0.278835,
     "end_time": "2023-03-04T11:06:14.706387",
     "exception": false,
     "start_time": "2023-03-04T11:06:14.427552",
     "status": "completed"
    },
    "tags": []
   },
   "outputs": [
    {
     "name": "stderr",
     "output_type": "stream",
     "text": [
      "/opt/conda/lib/python3.7/site-packages/seaborn/_decorators.py:43: FutureWarning: Pass the following variable as a keyword arg: x. From version 0.12, the only valid positional argument will be `data`, and passing other arguments without an explicit keyword will result in an error or misinterpretation.\n",
      "  FutureWarning\n"
     ]
    },
    {
     "data": {
      "text/plain": [
       "<AxesSubplot:xlabel='OS', ylabel='count'>"
      ]
     },
     "execution_count": 9,
     "metadata": {},
     "output_type": "execute_result"
    },
    {
     "data": {
      "image/png": "[encoded data removed]",
      "text/plain": [
       "<Figure size 432x288 with 1 Axes>"
      ]
     },
     "metadata": {
      "needs_background": "light"
     },
     "output_type": "display_data"
    }
   ],
   "source": [
    "sns.countplot(train['OS'])"
   ]
  },
  {
   "cell_type": "code",
   "execution_count": 10,
   "id": "caa2e71e",
   "metadata": {
    "execution": {
     "iopub.execute_input": "2023-03-04T11:06:14.737300Z",
     "iopub.status.busy": "2023-03-04T11:06:14.736599Z",
     "iopub.status.idle": "2023-03-04T11:06:14.751087Z",
     "shell.execute_reply": "2023-03-04T11:06:14.749733Z"
    },
    "papermill": {
     "duration": 0.032897,
     "end_time": "2023-03-04T11:06:14.753660",
     "exception": false,
     "start_time": "2023-03-04T11:06:14.720763",
     "status": "completed"
    },
    "tags": []
   },
   "outputs": [
    {
     "data": {
      "text/plain": [
       "HomePage                           153\n",
       "HomePage_Duration                  150\n",
       "LandingPage                        153\n",
       "LandingPage_Duration               135\n",
       "ProductDescriptionPage             123\n",
       "ProductDescriptionPage_Duration    167\n",
       "GoogleMetric:Bounce Rates          151\n",
       "GoogleMetric:Exit Rates            129\n",
       "GoogleMetric:Page Values           132\n",
       "SeasonalPurchase                   150\n",
       "Month_SeasonalPurchase             144\n",
       "OS                                 134\n",
       "SearchEngine                       122\n",
       "Zone                               117\n",
       "Type of Traffic                    143\n",
       "CustomerType                       144\n",
       "Gender                             145\n",
       "Cookies Setting                    144\n",
       "Education                          136\n",
       "Marital Status                     130\n",
       "WeekendPurchase                    121\n",
       "Made_Purchase                        0\n",
       "dtype: int64"
      ]
     },
     "execution_count": 10,
     "metadata": {},
     "output_type": "execute_result"
    }
   ],
   "source": [
    "# checking for missing values \n",
    "\n",
    "train.isnull().sum()"
   ]
  },
  {
   "cell_type": "code",
   "execution_count": 11,
   "id": "7285f098",
   "metadata": {
    "execution": {
     "iopub.execute_input": "2023-03-04T11:06:14.784489Z",
     "iopub.status.busy": "2023-03-04T11:06:14.783674Z",
     "iopub.status.idle": "2023-03-04T11:06:14.795639Z",
     "shell.execute_reply": "2023-03-04T11:06:14.794798Z"
    },
    "papermill": {
     "duration": 0.030009,
     "end_time": "2023-03-04T11:06:14.797902",
     "exception": false,
     "start_time": "2023-03-04T11:06:14.767893",
     "status": "completed"
    },
    "tags": []
   },
   "outputs": [
    {
     "data": {
      "text/plain": [
       "HomePage                           51\n",
       "HomePage_Duration                  55\n",
       "LandingPage                        56\n",
       "LandingPage_Duration               75\n",
       "ProductDescriptionPage             58\n",
       "ProductDescriptionPage_Duration    63\n",
       "GoogleMetric:Bounce Rates          66\n",
       "GoogleMetric:Exit Rates            51\n",
       "GoogleMetric:Page Values           45\n",
       "SeasonalPurchase                   45\n",
       "Month_SeasonalPurchase             58\n",
       "OS                                 62\n",
       "SearchEngine                       58\n",
       "Zone                               47\n",
       "Type of Traffic                    68\n",
       "CustomerType                       88\n",
       "Gender                             64\n",
       "Cookies Setting                    62\n",
       "Education                          69\n",
       "Marital Status                     47\n",
       "WeekendPurchase                    58\n",
       "dtype: int64"
      ]
     },
     "execution_count": 11,
     "metadata": {},
     "output_type": "execute_result"
    }
   ],
   "source": [
    "test.isnull().sum()"
   ]
  },
  {
   "cell_type": "code",
   "execution_count": 12,
   "id": "4dcb9bf4",
   "metadata": {
    "execution": {
     "iopub.execute_input": "2023-03-04T11:06:14.828764Z",
     "iopub.status.busy": "2023-03-04T11:06:14.827614Z",
     "iopub.status.idle": "2023-03-04T11:06:14.832737Z",
     "shell.execute_reply": "2023-03-04T11:06:14.831496Z"
    },
    "papermill": {
     "duration": 0.023247,
     "end_time": "2023-03-04T11:06:14.835323",
     "exception": false,
     "start_time": "2023-03-04T11:06:14.812076",
     "status": "completed"
    },
    "tags": []
   },
   "outputs": [],
   "source": [
    "#Handling missing value \n",
    "# replace numerical value with mean\n",
    "# catogerical value with mode "
   ]
  },
  {
   "cell_type": "code",
   "execution_count": 13,
   "id": "882de931",
   "metadata": {
    "execution": {
     "iopub.execute_input": "2023-03-04T11:06:14.865940Z",
     "iopub.status.busy": "2023-03-04T11:06:14.865554Z",
     "iopub.status.idle": "2023-03-04T11:06:14.883022Z",
     "shell.execute_reply": "2023-03-04T11:06:14.881916Z"
    },
    "papermill": {
     "duration": 0.035833,
     "end_time": "2023-03-04T11:06:14.885685",
     "exception": false,
     "start_time": "2023-03-04T11:06:14.849852",
     "status": "completed"
    },
    "tags": []
   },
   "outputs": [],
   "source": [
    "\n",
    "# handling 'Homepage' column\n",
    "train['HomePage'].fillna(train['HomePage'].mean(),inplace=True)\n",
    "# Handling 'HomePage_Duration' column\n",
    "train['HomePage_Duration'].fillna(train['HomePage_Duration'].mean(),inplace=True)\n",
    "# 'LandingPage'\n",
    "train['LandingPage'].fillna(train['LandingPage'].mean(),inplace=True)\n",
    "# 'LandingPage_Duration' \n",
    "train['LandingPage_Duration'].fillna(train['LandingPage_Duration'].mean(),inplace=True)\n",
    "# 'ProductDescriptionPage'\n",
    "#train['ProductDescriptionPage'].fillna(train['ProductDesriptionPage'].mean(),inplace=True)\n",
    "# 'ProductDescriptionPage_Duration'\n",
    "#train['ProductDescriptionPage_Duration'].fillna(train['ProductDesriptionPage_Duration'].mean(),inplace=True)\n",
    "# 'GoogleMetric:Bounce Rates'\n",
    "train['GoogleMetric:Bounce Rates'].fillna(train['GoogleMetric:Bounce Rates'].mean(),inplace=True)\n",
    "# 'GoogleMetric:Exit Rates'\n",
    "train['GoogleMetric:Exit Rates'].fillna(train['GoogleMetric:Exit Rates'].mean(),inplace=True)\n",
    "# 'GoogleMetric:Page Values '\n",
    "train['GoogleMetric:Page Values'].fillna(train['GoogleMetric:Page Values'].mean(),inplace=True)\n",
    "#  'SeasonalPurchase'\n",
    "train['SeasonalPurchase'].fillna(train['SeasonalPurchase'].mean(),inplace=True)\n",
    "# 'SearchEngine'\n",
    "train['SearchEngine'].fillna(train['SearchEngine'].mean(),inplace=True)\n",
    "# 'OS'\n",
    "train['OS'].fillna(train['OS'].mean(),inplace=True)\n",
    "# 'Zone' \n",
    "train['Zone'].fillna(train['Zone'].mean(),inplace=True)\n",
    "# 'Type of Traffic'\n",
    "train['Type of Traffic'].fillna(train['Type of Traffic'].mean(),inplace=True)\n",
    "# 'WeekendPurchase'\n",
    "train['WeekendPurchase'].fillna(train['WeekendPurchase'].mean(),inplace=True)\n",
    "\n"
   ]
  },
  {
   "cell_type": "code",
   "execution_count": 14,
   "id": "40a1eca3",
   "metadata": {
    "execution": {
     "iopub.execute_input": "2023-03-04T11:06:14.916418Z",
     "iopub.status.busy": "2023-03-04T11:06:14.915993Z",
     "iopub.status.idle": "2023-03-04T11:06:14.933865Z",
     "shell.execute_reply": "2023-03-04T11:06:14.932781Z"
    },
    "papermill": {
     "duration": 0.036749,
     "end_time": "2023-03-04T11:06:14.936726",
     "exception": false,
     "start_time": "2023-03-04T11:06:14.899977",
     "status": "completed"
    },
    "tags": []
   },
   "outputs": [],
   "source": [
    "# handling 'Homepage' column\n",
    "test['HomePage'].fillna(test['HomePage'].mean(),inplace=True)\n",
    "# Handling 'HomePage_Duration' column\n",
    "test['HomePage_Duration'].fillna(test['HomePage_Duration'].mean(),inplace=True)\n",
    "# 'LandingPage'\n",
    "test['LandingPage'].fillna(test['LandingPage'].mean(),inplace=True)\n",
    "# 'LandingPage_Duration' \n",
    "test['LandingPage_Duration'].fillna(test['LandingPage_Duration'].mean(),inplace=True)\n",
    "# 'ProductDescriptionPage'\n",
    "#train['ProductDescriptionPage'].fillna(train['ProductDesriptionPage'].mean(),inplace=True)\n",
    "# 'ProductDescriptionPage_Duration'\n",
    "#train['ProductDescriptionPage_Duration'].fillna(train['ProductDesriptionPage_Duration'].mean(),inplace=True)\n",
    "# 'GoogleMetric:Bounce Rates'\n",
    "test['GoogleMetric:Bounce Rates'].fillna(test['GoogleMetric:Bounce Rates'].mean(),inplace=True)\n",
    "# 'GoogleMetric:Exit Rates'\n",
    "test['GoogleMetric:Exit Rates'].fillna(test['GoogleMetric:Exit Rates'].mean(),inplace=True)\n",
    "# 'GoogleMetric:Page Values '\n",
    "test['GoogleMetric:Page Values'].fillna(test['GoogleMetric:Page Values'].mean(),inplace=True)\n",
    "#  'SeasonalPurchase'\n",
    "test['SeasonalPurchase'].fillna(test['SeasonalPurchase'].mean(),inplace=True)\n",
    "# 'SearchEngine'\n",
    "test['SearchEngine'].fillna(test['SearchEngine'].mean(),inplace=True)\n",
    "# 'OS'\n",
    "test['OS'].fillna(test['OS'].mean(),inplace=True)\n",
    "# 'Zone' \n",
    "test['Zone'].fillna(test['Zone'].mean(),inplace=True)\n",
    "# 'Type of Traffic'\n",
    "test['Type of Traffic'].fillna(test['Type of Traffic'].mean(),inplace=True)\n",
    "# 'WeekendPurchase'\n",
    "test['WeekendPurchase'].fillna(test['WeekendPurchase'].mean(),inplace=True)\n",
    "\n"
   ]
  },
  {
   "cell_type": "code",
   "execution_count": 15,
   "id": "61c5a682",
   "metadata": {
    "execution": {
     "iopub.execute_input": "2023-03-04T11:06:14.968493Z",
     "iopub.status.busy": "2023-03-04T11:06:14.968029Z",
     "iopub.status.idle": "2023-03-04T11:06:14.977874Z",
     "shell.execute_reply": "2023-03-04T11:06:14.976764Z"
    },
    "papermill": {
     "duration": 0.028841,
     "end_time": "2023-03-04T11:06:14.980523",
     "exception": false,
     "start_time": "2023-03-04T11:06:14.951682",
     "status": "completed"
    },
    "tags": []
   },
   "outputs": [
    {
     "data": {
      "text/plain": [
       "0    May\n",
       "dtype: object"
      ]
     },
     "execution_count": 15,
     "metadata": {},
     "output_type": "execute_result"
    }
   ],
   "source": [
    "a = train['Month_SeasonalPurchase'].mode()\n",
    "a"
   ]
  },
  {
   "cell_type": "code",
   "execution_count": 16,
   "id": "b6c39233",
   "metadata": {
    "execution": {
     "iopub.execute_input": "2023-03-04T11:06:15.011385Z",
     "iopub.status.busy": "2023-03-04T11:06:15.010894Z",
     "iopub.status.idle": "2023-03-04T11:06:15.034908Z",
     "shell.execute_reply": "2023-03-04T11:06:15.033750Z"
    },
    "papermill": {
     "duration": 0.042775,
     "end_time": "2023-03-04T11:06:15.037727",
     "exception": false,
     "start_time": "2023-03-04T11:06:14.994952",
     "status": "completed"
    },
    "tags": []
   },
   "outputs": [],
   "source": [
    "# categorical data \n",
    "# 'Month_SeasonalPurchase'\n",
    "a = train['Month_SeasonalPurchase'].mode()\n",
    "train['Month_SeasonalPurchase'].fillna('a',inplace=True)\n",
    "# 'CustomerType'\n",
    "b = train['CustomerType'].mode()\n",
    "train['CustomerType'].fillna('b',inplace=True)\n",
    "# 'Gender'\n",
    "c = train['Gender'].mode()\n",
    "train['Gender'].fillna('c',inplace=True)\n",
    "# 'Cookies Setting'\n",
    "d = train['Cookies Setting'].mode()\n",
    "train['Cookies Setting'].fillna('d',inplace=True)\n",
    "# 'Education'\n",
    "e = train['Education'].mode()\n",
    "train['Education'].fillna('e',inplace=True)\n",
    "# 'Marital Status'\n",
    "f = train['Marital Status'].mode()\n",
    "train['Marital Status'].fillna('f',inplace=True)\n",
    "\n",
    "\n"
   ]
  },
  {
   "cell_type": "code",
   "execution_count": 17,
   "id": "91007628",
   "metadata": {
    "execution": {
     "iopub.execute_input": "2023-03-04T11:06:15.068216Z",
     "iopub.status.busy": "2023-03-04T11:06:15.067784Z",
     "iopub.status.idle": "2023-03-04T11:06:15.086593Z",
     "shell.execute_reply": "2023-03-04T11:06:15.085244Z"
    },
    "papermill": {
     "duration": 0.037187,
     "end_time": "2023-03-04T11:06:15.089313",
     "exception": false,
     "start_time": "2023-03-04T11:06:15.052126",
     "status": "completed"
    },
    "tags": []
   },
   "outputs": [],
   "source": [
    "# categorical data \n",
    "# 'Month_SeasonalPurchase'\n",
    "a = test['Month_SeasonalPurchase'].mode()\n",
    "test['Month_SeasonalPurchase'].fillna('a',inplace=True)\n",
    "# 'CustomerType'\n",
    "b = test['CustomerType'].mode()\n",
    "test['CustomerType'].fillna('b',inplace=True)\n",
    "# 'Gender'\n",
    "c = test['Gender'].mode()\n",
    "test['Gender'].fillna('c',inplace=True)\n",
    "# 'Cookies Setting'\n",
    "d = test['Cookies Setting'].mode()\n",
    "test['Cookies Setting'].fillna('d',inplace=True)\n",
    "# 'Education'\n",
    "e = test['Education'].mode()\n",
    "test['Education'].fillna('e',inplace=True)\n",
    "# 'Marital Status'\n",
    "f = test['Marital Status'].mode()\n",
    "test['Marital Status'].fillna('f',inplace=True)\n",
    "\n"
   ]
  },
  {
   "cell_type": "code",
   "execution_count": 18,
   "id": "b1beeeec",
   "metadata": {
    "execution": {
     "iopub.execute_input": "2023-03-04T11:06:15.119558Z",
     "iopub.status.busy": "2023-03-04T11:06:15.119104Z",
     "iopub.status.idle": "2023-03-04T11:06:15.127226Z",
     "shell.execute_reply": "2023-03-04T11:06:15.126004Z"
    },
    "papermill": {
     "duration": 0.025879,
     "end_time": "2023-03-04T11:06:15.129499",
     "exception": false,
     "start_time": "2023-03-04T11:06:15.103620",
     "status": "completed"
    },
    "tags": []
   },
   "outputs": [],
   "source": [
    "# Removing two column \n",
    "train = train.drop(labels=['ProductDescriptionPage','ProductDescriptionPage_Duration'],axis=1)"
   ]
  },
  {
   "cell_type": "code",
   "execution_count": 19,
   "id": "e00d1e2d",
   "metadata": {
    "execution": {
     "iopub.execute_input": "2023-03-04T11:06:15.160001Z",
     "iopub.status.busy": "2023-03-04T11:06:15.159564Z",
     "iopub.status.idle": "2023-03-04T11:06:15.167459Z",
     "shell.execute_reply": "2023-03-04T11:06:15.166293Z"
    },
    "papermill": {
     "duration": 0.025854,
     "end_time": "2023-03-04T11:06:15.169750",
     "exception": false,
     "start_time": "2023-03-04T11:06:15.143896",
     "status": "completed"
    },
    "tags": []
   },
   "outputs": [],
   "source": [
    "# Removing two column \n",
    "test = test.drop(labels=['ProductDescriptionPage','ProductDescriptionPage_Duration'],axis=1)"
   ]
  },
  {
   "cell_type": "code",
   "execution_count": 20,
   "id": "d2ce40c7",
   "metadata": {
    "execution": {
     "iopub.execute_input": "2023-03-04T11:06:15.200327Z",
     "iopub.status.busy": "2023-03-04T11:06:15.199899Z",
     "iopub.status.idle": "2023-03-04T11:06:15.214367Z",
     "shell.execute_reply": "2023-03-04T11:06:15.213168Z"
    },
    "papermill": {
     "duration": 0.032706,
     "end_time": "2023-03-04T11:06:15.216861",
     "exception": false,
     "start_time": "2023-03-04T11:06:15.184155",
     "status": "completed"
    },
    "tags": []
   },
   "outputs": [
    {
     "data": {
      "text/plain": [
       "HomePage                     0\n",
       "HomePage_Duration            0\n",
       "LandingPage                  0\n",
       "LandingPage_Duration         0\n",
       "GoogleMetric:Bounce Rates    0\n",
       "GoogleMetric:Exit Rates      0\n",
       "GoogleMetric:Page Values     0\n",
       "SeasonalPurchase             0\n",
       "Month_SeasonalPurchase       0\n",
       "OS                           0\n",
       "SearchEngine                 0\n",
       "Zone                         0\n",
       "Type of Traffic              0\n",
       "CustomerType                 0\n",
       "Gender                       0\n",
       "Cookies Setting              0\n",
       "Education                    0\n",
       "Marital Status               0\n",
       "WeekendPurchase              0\n",
       "Made_Purchase                0\n",
       "dtype: int64"
      ]
     },
     "execution_count": 20,
     "metadata": {},
     "output_type": "execute_result"
    }
   ],
   "source": [
    "train.isnull().sum()"
   ]
  },
  {
   "cell_type": "code",
   "execution_count": 21,
   "id": "059b12ea",
   "metadata": {
    "execution": {
     "iopub.execute_input": "2023-03-04T11:06:15.248023Z",
     "iopub.status.busy": "2023-03-04T11:06:15.247595Z",
     "iopub.status.idle": "2023-03-04T11:06:15.259600Z",
     "shell.execute_reply": "2023-03-04T11:06:15.258536Z"
    },
    "papermill": {
     "duration": 0.029974,
     "end_time": "2023-03-04T11:06:15.261827",
     "exception": false,
     "start_time": "2023-03-04T11:06:15.231853",
     "status": "completed"
    },
    "tags": []
   },
   "outputs": [
    {
     "data": {
      "text/plain": [
       "HomePage                     0\n",
       "HomePage_Duration            0\n",
       "LandingPage                  0\n",
       "LandingPage_Duration         0\n",
       "GoogleMetric:Bounce Rates    0\n",
       "GoogleMetric:Exit Rates      0\n",
       "GoogleMetric:Page Values     0\n",
       "SeasonalPurchase             0\n",
       "Month_SeasonalPurchase       0\n",
       "OS                           0\n",
       "SearchEngine                 0\n",
       "Zone                         0\n",
       "Type of Traffic              0\n",
       "CustomerType                 0\n",
       "Gender                       0\n",
       "Cookies Setting              0\n",
       "Education                    0\n",
       "Marital Status               0\n",
       "WeekendPurchase              0\n",
       "dtype: int64"
      ]
     },
     "execution_count": 21,
     "metadata": {},
     "output_type": "execute_result"
    }
   ],
   "source": [
    "test.isnull().sum()"
   ]
  },
  {
   "cell_type": "code",
   "execution_count": 22,
   "id": "83bcdc9b",
   "metadata": {
    "execution": {
     "iopub.execute_input": "2023-03-04T11:06:15.292893Z",
     "iopub.status.busy": "2023-03-04T11:06:15.292491Z",
     "iopub.status.idle": "2023-03-04T11:06:15.301318Z",
     "shell.execute_reply": "2023-03-04T11:06:15.300165Z"
    },
    "papermill": {
     "duration": 0.027087,
     "end_time": "2023-03-04T11:06:15.303549",
     "exception": false,
     "start_time": "2023-03-04T11:06:15.276462",
     "status": "completed"
    },
    "tags": []
   },
   "outputs": [
    {
     "data": {
      "text/plain": [
       "HomePage                     float64\n",
       "HomePage_Duration            float64\n",
       "LandingPage                  float64\n",
       "LandingPage_Duration         float64\n",
       "GoogleMetric:Bounce Rates    float64\n",
       "GoogleMetric:Exit Rates      float64\n",
       "GoogleMetric:Page Values     float64\n",
       "SeasonalPurchase             float64\n",
       "Month_SeasonalPurchase        object\n",
       "OS                           float64\n",
       "SearchEngine                 float64\n",
       "Zone                         float64\n",
       "Type of Traffic              float64\n",
       "CustomerType                  object\n",
       "Gender                        object\n",
       "Cookies Setting               object\n",
       "Education                     object\n",
       "Marital Status                object\n",
       "WeekendPurchase              float64\n",
       "Made_Purchase                   bool\n",
       "dtype: object"
      ]
     },
     "execution_count": 22,
     "metadata": {},
     "output_type": "execute_result"
    }
   ],
   "source": [
    "# data type \n",
    "train.dtypes\n"
   ]
  },
  {
   "cell_type": "code",
   "execution_count": 23,
   "id": "a5e96d8c",
   "metadata": {
    "execution": {
     "iopub.execute_input": "2023-03-04T11:06:15.334857Z",
     "iopub.status.busy": "2023-03-04T11:06:15.334432Z",
     "iopub.status.idle": "2023-03-04T11:06:15.343300Z",
     "shell.execute_reply": "2023-03-04T11:06:15.342163Z"
    },
    "papermill": {
     "duration": 0.027253,
     "end_time": "2023-03-04T11:06:15.345555",
     "exception": false,
     "start_time": "2023-03-04T11:06:15.318302",
     "status": "completed"
    },
    "tags": []
   },
   "outputs": [
    {
     "data": {
      "text/plain": [
       "HomePage                     float64\n",
       "HomePage_Duration            float64\n",
       "LandingPage                  float64\n",
       "LandingPage_Duration         float64\n",
       "GoogleMetric:Bounce Rates    float64\n",
       "GoogleMetric:Exit Rates      float64\n",
       "GoogleMetric:Page Values     float64\n",
       "SeasonalPurchase             float64\n",
       "Month_SeasonalPurchase        object\n",
       "OS                           float64\n",
       "SearchEngine                 float64\n",
       "Zone                         float64\n",
       "Type of Traffic              float64\n",
       "CustomerType                  object\n",
       "Gender                        object\n",
       "Cookies Setting               object\n",
       "Education                     object\n",
       "Marital Status                object\n",
       "WeekendPurchase              float64\n",
       "dtype: object"
      ]
     },
     "execution_count": 23,
     "metadata": {},
     "output_type": "execute_result"
    }
   ],
   "source": [
    "test.dtypes"
   ]
  },
  {
   "cell_type": "markdown",
   "id": "4f697c9f",
   "metadata": {
    "papermill": {
     "duration": 0.014385,
     "end_time": "2023-03-04T11:06:15.374665",
     "exception": false,
     "start_time": "2023-03-04T11:06:15.360280",
     "status": "completed"
    },
    "tags": []
   },
   "source": [
    "Label Encoding "
   ]
  },
  {
   "cell_type": "code",
   "execution_count": 24,
   "id": "bbc006ea",
   "metadata": {
    "execution": {
     "iopub.execute_input": "2023-03-04T11:06:15.406008Z",
     "iopub.status.busy": "2023-03-04T11:06:15.405572Z",
     "iopub.status.idle": "2023-03-04T11:06:15.411022Z",
     "shell.execute_reply": "2023-03-04T11:06:15.409787Z"
    },
    "papermill": {
     "duration": 0.02406,
     "end_time": "2023-03-04T11:06:15.413341",
     "exception": false,
     "start_time": "2023-03-04T11:06:15.389281",
     "status": "completed"
    },
    "tags": []
   },
   "outputs": [],
   "source": [
    "encoder = LabelEncoder()\n"
   ]
  },
  {
   "cell_type": "code",
   "execution_count": 25,
   "id": "4befa431",
   "metadata": {
    "execution": {
     "iopub.execute_input": "2023-03-04T11:06:15.446219Z",
     "iopub.status.busy": "2023-03-04T11:06:15.445770Z",
     "iopub.status.idle": "2023-03-04T11:06:15.480928Z",
     "shell.execute_reply": "2023-03-04T11:06:15.479718Z"
    },
    "papermill": {
     "duration": 0.054782,
     "end_time": "2023-03-04T11:06:15.483702",
     "exception": false,
     "start_time": "2023-03-04T11:06:15.428920",
     "status": "completed"
    },
    "tags": []
   },
   "outputs": [],
   "source": [
    "# 'Month_SeasonalPurchase'\n",
    "train['Month_SeasonalPurchase'] = encoder.fit_transform(train['Month_SeasonalPurchase'])\n",
    "# 'CustomerType'\n",
    "train['CustomerType'] = encoder.fit_transform(train['CustomerType'])\n",
    "#  'Gender'\n",
    "train['Gender'] = encoder.fit_transform(train['Gender'])\n",
    "# 'Cookies Setting'\n",
    "train['Cookies Setting'] = encoder.fit_transform(train['Cookies Setting'])\n",
    "#  'Education'\n",
    "train['Education'] = encoder.fit_transform(train['Education'])\n",
    "# 'Marital Status'\n",
    "train['Marital Status'] = encoder.fit_transform(train['Marital Status'])\n",
    "# 'Made Purchase'\n",
    "train['Made_Purchase'] = encoder.fit_transform(train['Made_Purchase'])\n"
   ]
  },
  {
   "cell_type": "code",
   "execution_count": 26,
   "id": "432aafa5",
   "metadata": {
    "execution": {
     "iopub.execute_input": "2023-03-04T11:06:15.516288Z",
     "iopub.status.busy": "2023-03-04T11:06:15.515869Z",
     "iopub.status.idle": "2023-03-04T11:06:15.535896Z",
     "shell.execute_reply": "2023-03-04T11:06:15.535017Z"
    },
    "papermill": {
     "duration": 0.039087,
     "end_time": "2023-03-04T11:06:15.538289",
     "exception": false,
     "start_time": "2023-03-04T11:06:15.499202",
     "status": "completed"
    },
    "tags": []
   },
   "outputs": [],
   "source": [
    "# 'Month_SeasonalPurchase'\n",
    "test['Month_SeasonalPurchase'] = encoder.fit_transform(test['Month_SeasonalPurchase'])\n",
    "# 'CustomerType'\n",
    "test['CustomerType'] = encoder.fit_transform(test['CustomerType'])\n",
    "#  'Gender'\n",
    "test['Gender'] = encoder.fit_transform(test['Gender'])\n",
    "# 'Cookies Setting'\n",
    "test['Cookies Setting'] = encoder.fit_transform(test['Cookies Setting'])\n",
    "#  'Education'\n",
    "test['Education'] = encoder.fit_transform(test['Education'])\n",
    "# 'Marital Status'\n",
    "test['Marital Status'] = encoder.fit_transform(test['Marital Status'])\n"
   ]
  },
  {
   "cell_type": "markdown",
   "id": "80a26e87",
   "metadata": {
    "papermill": {
     "duration": 0.014986,
     "end_time": "2023-03-04T11:06:15.568173",
     "exception": false,
     "start_time": "2023-03-04T11:06:15.553187",
     "status": "completed"
    },
    "tags": []
   },
   "source": [
    "Splitting into testing data "
   ]
  },
  {
   "cell_type": "code",
   "execution_count": 27,
   "id": "87e405b8",
   "metadata": {
    "execution": {
     "iopub.execute_input": "2023-03-04T11:06:15.601181Z",
     "iopub.status.busy": "2023-03-04T11:06:15.600703Z",
     "iopub.status.idle": "2023-03-04T11:06:15.611040Z",
     "shell.execute_reply": "2023-03-04T11:06:15.610100Z"
    },
    "papermill": {
     "duration": 0.029282,
     "end_time": "2023-03-04T11:06:15.613463",
     "exception": false,
     "start_time": "2023-03-04T11:06:15.584181",
     "status": "completed"
    },
    "tags": []
   },
   "outputs": [],
   "source": [
    "X = train.drop(columns='Made_Purchase', axis=1)\n",
    "Y = train['Made_Purchase']"
   ]
  },
  {
   "cell_type": "code",
   "execution_count": null,
   "id": "cb51a946",
   "metadata": {
    "papermill": {
     "duration": 0.014848,
     "end_time": "2023-03-04T11:06:15.643588",
     "exception": false,
     "start_time": "2023-03-04T11:06:15.628740",
     "status": "completed"
    },
    "tags": []
   },
   "outputs": [],
   "source": []
  },
  {
   "cell_type": "code",
   "execution_count": 28,
   "id": "04a4cb8f",
   "metadata": {
    "execution": {
     "iopub.execute_input": "2023-03-04T11:06:15.676267Z",
     "iopub.status.busy": "2023-03-04T11:06:15.675569Z",
     "iopub.status.idle": "2023-03-04T11:06:15.686635Z",
     "shell.execute_reply": "2023-03-04T11:06:15.685525Z"
    },
    "papermill": {
     "duration": 0.030431,
     "end_time": "2023-03-04T11:06:15.689158",
     "exception": false,
     "start_time": "2023-03-04T11:06:15.658727",
     "status": "completed"
    },
    "tags": []
   },
   "outputs": [],
   "source": [
    "X_train, X_test, Y_train, Y_test = train_test_split(X, Y, test_size=0.2, random_state=2)"
   ]
  },
  {
   "cell_type": "markdown",
   "id": "a9bb25cc",
   "metadata": {
    "papermill": {
     "duration": 0.014459,
     "end_time": "2023-03-04T11:06:15.718435",
     "exception": false,
     "start_time": "2023-03-04T11:06:15.703976",
     "status": "completed"
    },
    "tags": []
   },
   "source": [
    "Feature Scaling "
   ]
  },
  {
   "cell_type": "code",
   "execution_count": 29,
   "id": "583e4f3a",
   "metadata": {
    "execution": {
     "iopub.execute_input": "2023-03-04T11:06:15.750412Z",
     "iopub.status.busy": "2023-03-04T11:06:15.749872Z",
     "iopub.status.idle": "2023-03-04T11:06:15.767491Z",
     "shell.execute_reply": "2023-03-04T11:06:15.766348Z"
    },
    "papermill": {
     "duration": 0.037001,
     "end_time": "2023-03-04T11:06:15.770370",
     "exception": false,
     "start_time": "2023-03-04T11:06:15.733369",
     "status": "completed"
    },
    "tags": []
   },
   "outputs": [],
   "source": [
    "#feature Scaling  \n",
    "from sklearn.preprocessing import StandardScaler    \n",
    "st_x= StandardScaler()    \n",
    "X_train= st_x.fit_transform(X_train)    \n",
    "X_test= st_x.transform(X_test)  "
   ]
  },
  {
   "cell_type": "markdown",
   "id": "179bbfd0",
   "metadata": {
    "papermill": {
     "duration": 0.014872,
     "end_time": "2023-03-04T11:06:15.801076",
     "exception": false,
     "start_time": "2023-03-04T11:06:15.786204",
     "status": "completed"
    },
    "tags": []
   },
   "source": [
    "Machine Learning Model Training "
   ]
  },
  {
   "cell_type": "code",
   "execution_count": 30,
   "id": "06fdd13e",
   "metadata": {
    "execution": {
     "iopub.execute_input": "2023-03-04T11:06:15.832834Z",
     "iopub.status.busy": "2023-03-04T11:06:15.832440Z",
     "iopub.status.idle": "2023-03-04T11:06:15.836977Z",
     "shell.execute_reply": "2023-03-04T11:06:15.835568Z"
    },
    "papermill": {
     "duration": 0.023543,
     "end_time": "2023-03-04T11:06:15.839496",
     "exception": false,
     "start_time": "2023-03-04T11:06:15.815953",
     "status": "completed"
    },
    "tags": []
   },
   "outputs": [],
   "source": [
    "#from sklearn.svm import SVC # \"Support vector classifier\"  \n",
    "#model = SVC(kernel='linear', random_state=2) \n",
    "\n",
    "#model = LogisticRegression()"
   ]
  },
  {
   "cell_type": "code",
   "execution_count": 31,
   "id": "8e3454da",
   "metadata": {
    "execution": {
     "iopub.execute_input": "2023-03-04T11:06:15.872565Z",
     "iopub.status.busy": "2023-03-04T11:06:15.872067Z",
     "iopub.status.idle": "2023-03-04T11:06:15.876005Z",
     "shell.execute_reply": "2023-03-04T11:06:15.875192Z"
    },
    "papermill": {
     "duration": 0.023415,
     "end_time": "2023-03-04T11:06:15.878329",
     "exception": false,
     "start_time": "2023-03-04T11:06:15.854914",
     "status": "completed"
    },
    "tags": []
   },
   "outputs": [],
   "source": [
    "#from sklearn.tree import DecisionTreeClassifier  \n",
    "#model = DecisionTreeClassifier(criterion='entropy', random_state=2)  "
   ]
  },
  {
   "cell_type": "code",
   "execution_count": 32,
   "id": "fb349f54",
   "metadata": {
    "execution": {
     "iopub.execute_input": "2023-03-04T11:06:15.910839Z",
     "iopub.status.busy": "2023-03-04T11:06:15.910100Z",
     "iopub.status.idle": "2023-03-04T11:06:15.915128Z",
     "shell.execute_reply": "2023-03-04T11:06:15.914360Z"
    },
    "papermill": {
     "duration": 0.02386,
     "end_time": "2023-03-04T11:06:15.917381",
     "exception": false,
     "start_time": "2023-03-04T11:06:15.893521",
     "status": "completed"
    },
    "tags": []
   },
   "outputs": [],
   "source": [
    "from sklearn.linear_model import RidgeClassifier\n",
    "model = RidgeClassifier()"
   ]
  },
  {
   "cell_type": "code",
   "execution_count": 33,
   "id": "8f19c219",
   "metadata": {
    "execution": {
     "iopub.execute_input": "2023-03-04T11:06:15.949636Z",
     "iopub.status.busy": "2023-03-04T11:06:15.948607Z",
     "iopub.status.idle": "2023-03-04T11:06:15.993103Z",
     "shell.execute_reply": "2023-03-04T11:06:15.991672Z"
    },
    "papermill": {
     "duration": 0.064975,
     "end_time": "2023-03-04T11:06:15.997268",
     "exception": false,
     "start_time": "2023-03-04T11:06:15.932293",
     "status": "completed"
    },
    "tags": []
   },
   "outputs": [
    {
     "data": {
      "text/plain": [
       "RidgeClassifier()"
      ]
     },
     "execution_count": 33,
     "metadata": {},
     "output_type": "execute_result"
    }
   ],
   "source": [
    "model.fit(X_train, Y_train)\n",
    "\n"
   ]
  },
  {
   "cell_type": "code",
   "execution_count": 34,
   "id": "93779727",
   "metadata": {
    "execution": {
     "iopub.execute_input": "2023-03-04T11:06:16.079149Z",
     "iopub.status.busy": "2023-03-04T11:06:16.078451Z",
     "iopub.status.idle": "2023-03-04T11:06:16.094918Z",
     "shell.execute_reply": "2023-03-04T11:06:16.093224Z"
    },
    "papermill": {
     "duration": 0.061988,
     "end_time": "2023-03-04T11:06:16.099077",
     "exception": false,
     "start_time": "2023-03-04T11:06:16.037089",
     "status": "completed"
    },
    "tags": []
   },
   "outputs": [],
   "source": [
    "# prediction on training data\n",
    "\n",
    "prediction_on_training_data = model.predict(X_train)\n",
    "accuracy_on_training_data = accuracy_score(Y_train, prediction_on_training_data)"
   ]
  },
  {
   "cell_type": "code",
   "execution_count": 35,
   "id": "a4b85ed9",
   "metadata": {
    "execution": {
     "iopub.execute_input": "2023-03-04T11:06:16.180167Z",
     "iopub.status.busy": "2023-03-04T11:06:16.179436Z",
     "iopub.status.idle": "2023-03-04T11:06:16.188036Z",
     "shell.execute_reply": "2023-03-04T11:06:16.186744Z"
    },
    "papermill": {
     "duration": 0.055278,
     "end_time": "2023-03-04T11:06:16.194026",
     "exception": false,
     "start_time": "2023-03-04T11:06:16.138748",
     "status": "completed"
    },
    "tags": []
   },
   "outputs": [
    {
     "name": "stdout",
     "output_type": "stream",
     "text": [
      "Accuracy on training data :  0.6527494908350305\n"
     ]
    }
   ],
   "source": [
    "print('Accuracy on training data : ', accuracy_on_training_data)"
   ]
  },
  {
   "cell_type": "code",
   "execution_count": 36,
   "id": "36a0774e",
   "metadata": {
    "execution": {
     "iopub.execute_input": "2023-03-04T11:06:16.235724Z",
     "iopub.status.busy": "2023-03-04T11:06:16.235308Z",
     "iopub.status.idle": "2023-03-04T11:06:16.245949Z",
     "shell.execute_reply": "2023-03-04T11:06:16.244349Z"
    },
    "papermill": {
     "duration": 0.031409,
     "end_time": "2023-03-04T11:06:16.250329",
     "exception": false,
     "start_time": "2023-03-04T11:06:16.218920",
     "status": "completed"
    },
    "tags": []
   },
   "outputs": [],
   "source": [
    "# prediction on test data\n",
    "\n",
    "prediction_on_test_data = model.predict(X_test)\n",
    "accuracy_on_test_data = accuracy_score(Y_test, prediction_on_test_data)"
   ]
  },
  {
   "cell_type": "code",
   "execution_count": 37,
   "id": "a6b19d59",
   "metadata": {
    "execution": {
     "iopub.execute_input": "2023-03-04T11:06:16.332122Z",
     "iopub.status.busy": "2023-03-04T11:06:16.331412Z",
     "iopub.status.idle": "2023-03-04T11:06:16.341447Z",
     "shell.execute_reply": "2023-03-04T11:06:16.340236Z"
    },
    "papermill": {
     "duration": 0.055802,
     "end_time": "2023-03-04T11:06:16.345521",
     "exception": false,
     "start_time": "2023-03-04T11:06:16.289719",
     "status": "completed"
    },
    "tags": []
   },
   "outputs": [
    {
     "data": {
      "text/plain": [
       "array([0, 0, 0, ..., 0, 0, 0])"
      ]
     },
     "execution_count": 37,
     "metadata": {},
     "output_type": "execute_result"
    }
   ],
   "source": [
    "prediction_on_test_data"
   ]
  },
  {
   "cell_type": "code",
   "execution_count": 38,
   "id": "c5b4e44b",
   "metadata": {
    "execution": {
     "iopub.execute_input": "2023-03-04T11:06:16.388697Z",
     "iopub.status.busy": "2023-03-04T11:06:16.388261Z",
     "iopub.status.idle": "2023-03-04T11:06:16.394272Z",
     "shell.execute_reply": "2023-03-04T11:06:16.392989Z"
    },
    "papermill": {
     "duration": 0.025577,
     "end_time": "2023-03-04T11:06:16.397258",
     "exception": false,
     "start_time": "2023-03-04T11:06:16.371681",
     "status": "completed"
    },
    "tags": []
   },
   "outputs": [
    {
     "name": "stdout",
     "output_type": "stream",
     "text": [
      "Accuracy on test data :  0.6430268069222939\n"
     ]
    }
   ],
   "source": [
    "print('Accuracy on test data : ', accuracy_on_test_data)"
   ]
  },
  {
   "cell_type": "markdown",
   "id": "18215057",
   "metadata": {
    "papermill": {
     "duration": 0.014691,
     "end_time": "2023-03-04T11:06:16.428204",
     "exception": false,
     "start_time": "2023-03-04T11:06:16.413513",
     "status": "completed"
    },
    "tags": []
   },
   "source": [
    "model training on complete data "
   ]
  },
  {
   "cell_type": "code",
   "execution_count": 39,
   "id": "d4c9ece2",
   "metadata": {
    "execution": {
     "iopub.execute_input": "2023-03-04T11:06:16.460034Z",
     "iopub.status.busy": "2023-03-04T11:06:16.459647Z",
     "iopub.status.idle": "2023-03-04T11:06:16.489951Z",
     "shell.execute_reply": "2023-03-04T11:06:16.488666Z"
    },
    "papermill": {
     "duration": 0.050669,
     "end_time": "2023-03-04T11:06:16.493919",
     "exception": false,
     "start_time": "2023-03-04T11:06:16.443250",
     "status": "completed"
    },
    "tags": []
   },
   "outputs": [
    {
     "data": {
      "text/plain": [
       "RidgeClassifier()"
      ]
     },
     "execution_count": 39,
     "metadata": {},
     "output_type": "execute_result"
    }
   ],
   "source": [
    "\n",
    "model.fit(X,Y)"
   ]
  },
  {
   "cell_type": "code",
   "execution_count": null,
   "id": "deb89c75",
   "metadata": {
    "papermill": {
     "duration": 0.040141,
     "end_time": "2023-03-04T11:06:16.574538",
     "exception": false,
     "start_time": "2023-03-04T11:06:16.534397",
     "status": "completed"
    },
    "tags": []
   },
   "outputs": [],
   "source": [
    "\n"
   ]
  },
  {
   "cell_type": "code",
   "execution_count": 40,
   "id": "d2f7e697",
   "metadata": {
    "execution": {
     "iopub.execute_input": "2023-03-04T11:06:16.625793Z",
     "iopub.status.busy": "2023-03-04T11:06:16.625360Z",
     "iopub.status.idle": "2023-03-04T11:06:16.638791Z",
     "shell.execute_reply": "2023-03-04T11:06:16.637178Z"
    },
    "papermill": {
     "duration": 0.034921,
     "end_time": "2023-03-04T11:06:16.643095",
     "exception": false,
     "start_time": "2023-03-04T11:06:16.608174",
     "status": "completed"
    },
    "tags": []
   },
   "outputs": [
    {
     "data": {
      "text/plain": [
       "array([0, 0, 0, ..., 0, 0, 0])"
      ]
     },
     "execution_count": 40,
     "metadata": {},
     "output_type": "execute_result"
    }
   ],
   "source": [
    "pred =  model.predict(test)\n",
    "pred"
   ]
  },
  {
   "cell_type": "markdown",
   "id": "ed38851a",
   "metadata": {
    "papermill": {
     "duration": 0.039556,
     "end_time": "2023-03-04T11:06:16.723603",
     "exception": false,
     "start_time": "2023-03-04T11:06:16.684047",
     "status": "completed"
    },
    "tags": []
   },
   "source": [
    "Test Submission "
   ]
  },
  {
   "cell_type": "code",
   "execution_count": 41,
   "id": "717bdd87",
   "metadata": {
    "execution": {
     "iopub.execute_input": "2023-03-04T11:06:16.774457Z",
     "iopub.status.busy": "2023-03-04T11:06:16.774013Z",
     "iopub.status.idle": "2023-03-04T11:06:16.795575Z",
     "shell.execute_reply": "2023-03-04T11:06:16.794159Z"
    },
    "papermill": {
     "duration": 0.041133,
     "end_time": "2023-03-04T11:06:16.798429",
     "exception": false,
     "start_time": "2023-03-04T11:06:16.757296",
     "status": "completed"
    },
    "tags": []
   },
   "outputs": [
    {
     "data": {
      "text/html": [
       "<div>\n",
       "<style scoped>\n",
       "    .dataframe tbody tr th:only-of-type {\n",
       "        vertical-align: middle;\n",
       "    }\n",
       "\n",
       "    .dataframe tbody tr th {\n",
       "        vertical-align: top;\n",
       "    }\n",
       "\n",
       "    .dataframe thead th {\n",
       "        text-align: right;\n",
       "    }\n",
       "</style>\n",
       "<table border=\"1\" class=\"dataframe\">\n",
       "  <thead>\n",
       "    <tr style=\"text-align: right;\">\n",
       "      <th></th>\n",
       "      <th>id</th>\n",
       "      <th>Made_Purchase</th>\n",
       "    </tr>\n",
       "  </thead>\n",
       "  <tbody>\n",
       "    <tr>\n",
       "      <th>0</th>\n",
       "      <td>0</td>\n",
       "      <td>False</td>\n",
       "    </tr>\n",
       "    <tr>\n",
       "      <th>1</th>\n",
       "      <td>1</td>\n",
       "      <td>False</td>\n",
       "    </tr>\n",
       "    <tr>\n",
       "      <th>2</th>\n",
       "      <td>2</td>\n",
       "      <td>False</td>\n",
       "    </tr>\n",
       "    <tr>\n",
       "      <th>3</th>\n",
       "      <td>3</td>\n",
       "      <td>False</td>\n",
       "    </tr>\n",
       "    <tr>\n",
       "      <th>4</th>\n",
       "      <td>4</td>\n",
       "      <td>False</td>\n",
       "    </tr>\n",
       "  </tbody>\n",
       "</table>\n",
       "</div>"
      ],
      "text/plain": [
       "   id  Made_Purchase\n",
       "0   0          False\n",
       "1   1          False\n",
       "2   2          False\n",
       "3   3          False\n",
       "4   4          False"
      ]
     },
     "execution_count": 41,
     "metadata": {},
     "output_type": "execute_result"
    }
   ],
   "source": [
    "# Test Submission \n",
    "sub = pd.read_csv('/kaggle/input/e-commerce-shoppers-behaviour-understanding/sample.csv')\n",
    "sub.head()"
   ]
  },
  {
   "cell_type": "code",
   "execution_count": 42,
   "id": "302705c7",
   "metadata": {
    "execution": {
     "iopub.execute_input": "2023-03-04T11:06:16.832355Z",
     "iopub.status.busy": "2023-03-04T11:06:16.831922Z",
     "iopub.status.idle": "2023-03-04T11:06:16.837543Z",
     "shell.execute_reply": "2023-03-04T11:06:16.836315Z"
    },
    "papermill": {
     "duration": 0.025722,
     "end_time": "2023-03-04T11:06:16.840324",
     "exception": false,
     "start_time": "2023-03-04T11:06:16.814602",
     "status": "completed"
    },
    "tags": []
   },
   "outputs": [],
   "source": [
    "sub['Made_Purchase'] = pred"
   ]
  },
  {
   "cell_type": "code",
   "execution_count": 43,
   "id": "6ddb282d",
   "metadata": {
    "execution": {
     "iopub.execute_input": "2023-03-04T11:06:16.874282Z",
     "iopub.status.busy": "2023-03-04T11:06:16.873468Z",
     "iopub.status.idle": "2023-03-04T11:06:16.883870Z",
     "shell.execute_reply": "2023-03-04T11:06:16.882703Z"
    },
    "papermill": {
     "duration": 0.030019,
     "end_time": "2023-03-04T11:06:16.886424",
     "exception": false,
     "start_time": "2023-03-04T11:06:16.856405",
     "status": "completed"
    },
    "tags": []
   },
   "outputs": [
    {
     "data": {
      "text/html": [
       "<div>\n",
       "<style scoped>\n",
       "    .dataframe tbody tr th:only-of-type {\n",
       "        vertical-align: middle;\n",
       "    }\n",
       "\n",
       "    .dataframe tbody tr th {\n",
       "        vertical-align: top;\n",
       "    }\n",
       "\n",
       "    .dataframe thead th {\n",
       "        text-align: right;\n",
       "    }\n",
       "</style>\n",
       "<table border=\"1\" class=\"dataframe\">\n",
       "  <thead>\n",
       "    <tr style=\"text-align: right;\">\n",
       "      <th></th>\n",
       "      <th>id</th>\n",
       "      <th>Made_Purchase</th>\n",
       "    </tr>\n",
       "  </thead>\n",
       "  <tbody>\n",
       "    <tr>\n",
       "      <th>0</th>\n",
       "      <td>0</td>\n",
       "      <td>0</td>\n",
       "    </tr>\n",
       "    <tr>\n",
       "      <th>1</th>\n",
       "      <td>1</td>\n",
       "      <td>0</td>\n",
       "    </tr>\n",
       "    <tr>\n",
       "      <th>2</th>\n",
       "      <td>2</td>\n",
       "      <td>0</td>\n",
       "    </tr>\n",
       "    <tr>\n",
       "      <th>3</th>\n",
       "      <td>3</td>\n",
       "      <td>0</td>\n",
       "    </tr>\n",
       "    <tr>\n",
       "      <th>4</th>\n",
       "      <td>4</td>\n",
       "      <td>0</td>\n",
       "    </tr>\n",
       "  </tbody>\n",
       "</table>\n",
       "</div>"
      ],
      "text/plain": [
       "   id  Made_Purchase\n",
       "0   0              0\n",
       "1   1              0\n",
       "2   2              0\n",
       "3   3              0\n",
       "4   4              0"
      ]
     },
     "execution_count": 43,
     "metadata": {},
     "output_type": "execute_result"
    }
   ],
   "source": [
    "sub.head()"
   ]
  },
  {
   "cell_type": "code",
   "execution_count": 44,
   "id": "b451da05",
   "metadata": {
    "execution": {
     "iopub.execute_input": "2023-03-04T11:06:16.921247Z",
     "iopub.status.busy": "2023-03-04T11:06:16.920033Z",
     "iopub.status.idle": "2023-03-04T11:06:16.935377Z",
     "shell.execute_reply": "2023-03-04T11:06:16.934405Z"
    },
    "papermill": {
     "duration": 0.035144,
     "end_time": "2023-03-04T11:06:16.937891",
     "exception": false,
     "start_time": "2023-03-04T11:06:16.902747",
     "status": "completed"
    },
    "tags": []
   },
   "outputs": [],
   "source": [
    "sub.to_csv('submission.csv',index=False)"
   ]
  }
 ],
 "metadata": {
  "kernelspec": {
   "display_name": "Python 3",
   "language": "python",
   "name": "python3"
  },
  "language_info": {
   "codemirror_mode": {
    "name": "ipython",
    "version": 3
   },
   "file_extension": ".py",
   "mimetype": "text/x-python",
   "name": "python",
   "nbconvert_exporter": "python",
   "pygments_lexer": "ipython3",
   "version": "3.7.12"
  },
  "papermill": {
   "default_parameters": {},
   "duration": 15.923572,
   "end_time": "2023-03-04T11:06:17.776280",
   "environment_variables": {},
   "exception": null,
   "input_path": "__notebook__.ipynb",
   "output_path": "__notebook__.ipynb",
   "parameters": {},
   "start_time": "2023-03-04T11:06:01.852708",
   "version": "2.3.4"
  }
 },
 "nbformat": 4,
 "nbformat_minor": 5
}
